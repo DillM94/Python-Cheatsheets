{
 "cells": [
  {
   "cell_type": "markdown",
   "metadata": {},
   "source": [
    "# Boolean Operations"
   ]
  },
  {
   "cell_type": "code",
   "execution_count": 2,
   "metadata": {},
   "outputs": [
    {
     "name": "stdout",
     "output_type": "stream",
     "text": [
      "True\n",
      "False\n"
     ]
    }
   ],
   "source": [
    "print(True)\n",
    "print(False)"
   ]
  },
  {
   "cell_type": "code",
   "execution_count": 4,
   "metadata": {},
   "outputs": [
    {
     "name": "stdout",
     "output_type": "stream",
     "text": [
      "False\n",
      "True\n"
     ]
    }
   ],
   "source": [
    "# Equal to\n",
    "print(10 == 2)\n",
    "print(10 == 10)"
   ]
  },
  {
   "cell_type": "code",
   "execution_count": 5,
   "metadata": {},
   "outputs": [
    {
     "name": "stdout",
     "output_type": "stream",
     "text": [
      "True\n",
      "False\n"
     ]
    }
   ],
   "source": [
    "# Not equal to\n",
    "print(10 != 2)\n",
    "print(10 != 10)"
   ]
  },
  {
   "cell_type": "code",
   "execution_count": 7,
   "metadata": {},
   "outputs": [
    {
     "name": "stdout",
     "output_type": "stream",
     "text": [
      "True\n",
      "False\n"
     ]
    }
   ],
   "source": [
    "# Greater than/ Greater than or equal to\n",
    "print(10 > 2)\n",
    "print(10 >= 11)"
   ]
  },
  {
   "cell_type": "code",
   "execution_count": 8,
   "metadata": {
    "scrolled": true
   },
   "outputs": [
    {
     "name": "stdout",
     "output_type": "stream",
     "text": [
      "False\n",
      "True\n"
     ]
    }
   ],
   "source": [
    "# Less than/ Less than or equal to\n",
    "print(10 < 2)\n",
    "print(10 <= 11)"
   ]
  },
  {
   "cell_type": "markdown",
   "metadata": {},
   "source": [
    "# And"
   ]
  },
  {
   "cell_type": "code",
   "execution_count": 15,
   "metadata": {
    "scrolled": true
   },
   "outputs": [
    {
     "name": "stdout",
     "output_type": "stream",
     "text": [
      "True\n",
      "False\n",
      "False\n"
     ]
    }
   ],
   "source": [
    "# True and True = True\n",
    "print((10 > 2) and (10 == 10))\n",
    "\n",
    "# False and True = False\n",
    "print((10 < 2) and (10 == 10))\n",
    "\n",
    "# False and False = False\n",
    "print((10 < 2) and (10 == 1))\n",
    "\n",
    "# and == &"
   ]
  },
  {
   "cell_type": "markdown",
   "metadata": {},
   "source": [
    "# Or"
   ]
  },
  {
   "cell_type": "code",
   "execution_count": 13,
   "metadata": {},
   "outputs": [
    {
     "name": "stdout",
     "output_type": "stream",
     "text": [
      "True\n",
      "True\n",
      "False\n"
     ]
    }
   ],
   "source": [
    "# True or True = True\n",
    "print((10 > 2) or (10 == 10))\n",
    "\n",
    "# False or True = True\n",
    "print((10 < 2) or (10 == 10))\n",
    "\n",
    "# False or False = False\n",
    "print((10 < 2) or (10 == 1))\n",
    "\n",
    "# or == |"
   ]
  },
  {
   "cell_type": "markdown",
   "metadata": {},
   "source": [
    "# If Statement"
   ]
  },
  {
   "cell_type": "code",
   "execution_count": null,
   "metadata": {},
   "outputs": [],
   "source": [
    "'''\n",
    "if condition:\n",
    "    code\n",
    "    code\n",
    "elif other condition:\n",
    "    code\n",
    "    code\n",
    "else:\n",
    "    code\n",
    "    code\n",
    "'''"
   ]
  },
  {
   "cell_type": "code",
   "execution_count": 16,
   "metadata": {},
   "outputs": [
    {
     "name": "stdout",
     "output_type": "stream",
     "text": [
      "x does not equal 3 or 4\n"
     ]
    }
   ],
   "source": [
    "x = 2\n",
    "\n",
    "if x == 3:\n",
    "    print('x equals 3')\n",
    "elif x == 4: \n",
    "    print('x equals 4')\n",
    "    \n",
    "else:\n",
    "    print('x does not equal 3 or 4')"
   ]
  },
  {
   "cell_type": "markdown",
   "metadata": {},
   "source": [
    "# For Loop"
   ]
  },
  {
   "cell_type": "code",
   "execution_count": 17,
   "metadata": {},
   "outputs": [
    {
     "name": "stdout",
     "output_type": "stream",
     "text": [
      "D\n",
      "i\n",
      "l\n",
      "l\n",
      "o\n",
      "n\n"
     ]
    }
   ],
   "source": [
    "name = 'Dillon'\n",
    "\n",
    "for letter in name:\n",
    "    print(letter)"
   ]
  },
  {
   "cell_type": "code",
   "execution_count": 18,
   "metadata": {},
   "outputs": [
    {
     "name": "stdout",
     "output_type": "stream",
     "text": [
      "0\n",
      "1\n",
      "2\n",
      "3\n",
      "4\n",
      "5\n",
      "6\n",
      "7\n",
      "8\n",
      "9\n"
     ]
    }
   ],
   "source": [
    "for number in range(0,10):\n",
    "    print(number)"
   ]
  },
  {
   "cell_type": "code",
   "execution_count": 27,
   "metadata": {
    "scrolled": true
   },
   "outputs": [
    {
     "name": "stdout",
     "output_type": "stream",
     "text": [
      "00\n",
      "01\n",
      "\n",
      "10\n",
      "11\n",
      "\n",
      "20\n",
      "21\n",
      "\n",
      "30\n",
      "31\n",
      "\n",
      "40\n",
      "41\n",
      "\n"
     ]
    }
   ],
   "source": [
    "# Nested loops\n",
    "for i in range(0,5):\n",
    "    for j in range(0,2):\n",
    "        print(str(i) + str(j))\n",
    "    print('')"
   ]
  },
  {
   "cell_type": "markdown",
   "metadata": {},
   "source": [
    "# While Loops"
   ]
  },
  {
   "cell_type": "code",
   "execution_count": 30,
   "metadata": {
    "scrolled": false
   },
   "outputs": [
    {
     "name": "stdout",
     "output_type": "stream",
     "text": [
      "I am less then 10\n",
      "I am less then 10\n",
      "I am less then 10\n",
      "I am less then 10\n",
      "I am less then 10\n",
      "I am less then 10\n",
      "I am less then 10\n",
      "I am less then 10\n",
      "I am less then 10\n",
      "I am less then 10\n",
      "Now I am 10\n"
     ]
    }
   ],
   "source": [
    "counter = 0\n",
    "\n",
    "while counter < 10:\n",
    "    print('I am less then 10')\n",
    "    counter += 1\n",
    "    if counter == 10:\n",
    "        print('Now I am 10')\n",
    "        \n",
    "# Important to have a counter or else this will run for ever"
   ]
  },
  {
   "cell_type": "markdown",
   "metadata": {},
   "source": [
    "# Escaping Loops"
   ]
  },
  {
   "cell_type": "code",
   "execution_count": 32,
   "metadata": {
    "scrolled": true
   },
   "outputs": [
    {
     "name": "stdout",
     "output_type": "stream",
     "text": [
      "0\n",
      "1\n",
      "2\n",
      "3\n",
      "4\n",
      "5\n",
      "I am five. Now I'll stop.\n"
     ]
    }
   ],
   "source": [
    "# Break: Stops the loop once a condition is met\n",
    "\n",
    "for i in range(0,10):\n",
    "    print(i)\n",
    "    if i == 5:\n",
    "        print('I am five. Now I\\'ll stop.')\n",
    "        break"
   ]
  },
  {
   "cell_type": "code",
   "execution_count": null,
   "metadata": {},
   "outputs": [],
   "source": [
    "# Continue: Skips a condition\n",
    "\n",
    "for i in range(0,10):\n",
    "    if i%2 == 0:\n",
    "        continue"
   ]
  }
 ],
 "metadata": {
  "kernelspec": {
   "display_name": "Python 3",
   "language": "python",
   "name": "python3"
  },
  "language_info": {
   "codemirror_mode": {
    "name": "ipython",
    "version": 3
   },
   "file_extension": ".py",
   "mimetype": "text/x-python",
   "name": "python",
   "nbconvert_exporter": "python",
   "pygments_lexer": "ipython3",
   "version": "3.7.6"
  }
 },
 "nbformat": 4,
 "nbformat_minor": 4
}
