{
 "cells": [
  {
   "cell_type": "markdown",
   "metadata": {},
   "source": [
    "# Creating a class"
   ]
  },
  {
   "cell_type": "code",
   "execution_count": 1,
   "metadata": {},
   "outputs": [],
   "source": [
    "class Patient:\n",
    "    \n",
    "    def __init__(self, name, age, smoker):\n",
    "        self.name = name\n",
    "        self.age = age\n",
    "        self.smoker = smoker"
   ]
  },
  {
   "cell_type": "code",
   "execution_count": 2,
   "metadata": {},
   "outputs": [],
   "source": [
    "patient1 = Patient('Dillon', 26, False)\n",
    "patient2 = Patient('Bob', 20, True)"
   ]
  },
  {
   "cell_type": "code",
   "execution_count": 5,
   "metadata": {},
   "outputs": [
    {
     "name": "stdout",
     "output_type": "stream",
     "text": [
      "Dillon\n",
      "True\n",
      "<__main__.Patient object at 0x0000029DD6460908>\n"
     ]
    }
   ],
   "source": [
    "print(patient1.name)\n",
    "print(patient2.smoker)"
   ]
  },
  {
   "cell_type": "markdown",
   "metadata": {},
   "source": [
    "# repr"
   ]
  },
  {
   "cell_type": "code",
   "execution_count": 18,
   "metadata": {},
   "outputs": [],
   "source": [
    "# __repr__ allows us to call patient1 that returns something\n",
    "\n",
    "class Patient:\n",
    "    \n",
    "    def __init__(self, name, age, smoker):\n",
    "        self.name = name\n",
    "        self.age = age\n",
    "        self.smoker = smoker\n",
    "    \n",
    "    def __repr__(self):\n",
    "        return f'Patient\\'s name: {self.name}. \\nPatient\\'s Age: {self.age}.'"
   ]
  },
  {
   "cell_type": "code",
   "execution_count": 19,
   "metadata": {},
   "outputs": [
    {
     "name": "stdout",
     "output_type": "stream",
     "text": [
      "Patient's name: Dillon. \n",
      "Patient's Age: 26.\n"
     ]
    }
   ],
   "source": [
    "patient1 = Patient('Dillon', 26, True)\n",
    "print(patient1)"
   ]
  },
  {
   "cell_type": "markdown",
   "metadata": {},
   "source": [
    "# Adding Functions"
   ]
  },
  {
   "cell_type": "code",
   "execution_count": 24,
   "metadata": {},
   "outputs": [],
   "source": [
    "class Patient:\n",
    "    \n",
    "    def __init__(self, name, age, smoker):\n",
    "        self.name = name\n",
    "        self.age = age\n",
    "        self.smoker = smoker\n",
    "    \n",
    "    def __repr__(self):\n",
    "        return f'Patient\\'s name: {self.name}. \\nPatient\\'s Age: {self.age}.'\n",
    "    \n",
    "    def update_age(self, new_age):\n",
    "        self.age = new_age\n",
    "        return print(f'Patient\\'s age updated.')"
   ]
  },
  {
   "cell_type": "code",
   "execution_count": 25,
   "metadata": {},
   "outputs": [
    {
     "name": "stdout",
     "output_type": "stream",
     "text": [
      "Patient's name: Dillon. \n",
      "Patient's Age: 26.\n",
      "Patient's age updated.\n",
      "Patient's name: Dillon. \n",
      "Patient's Age: 27.\n"
     ]
    }
   ],
   "source": [
    "patient1 = Patient('Dillon', 26, True)\n",
    "print(patient1)\n",
    "\n",
    "patient1.update_age(27)\n",
    "print(patient1)"
   ]
  }
 ],
 "metadata": {
  "kernelspec": {
   "display_name": "Python 3",
   "language": "python",
   "name": "python3"
  },
  "language_info": {
   "codemirror_mode": {
    "name": "ipython",
    "version": 3
   },
   "file_extension": ".py",
   "mimetype": "text/x-python",
   "name": "python",
   "nbconvert_exporter": "python",
   "pygments_lexer": "ipython3",
   "version": "3.7.6"
  }
 },
 "nbformat": 4,
 "nbformat_minor": 4
}
