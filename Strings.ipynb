{
 "cells": [
  {
   "cell_type": "markdown",
   "metadata": {},
   "source": [
    "# Formatting Strings"
   ]
  },
  {
   "cell_type": "code",
   "execution_count": 3,
   "metadata": {
    "scrolled": true
   },
   "outputs": [
    {
     "name": "stdout",
     "output_type": "stream",
     "text": [
      "My name is Dill and I am 26 years old\n",
      "My name is Bob and I am 25 years old\n",
      "My name is Dill and I am 26 years old.\n"
     ]
    }
   ],
   "source": [
    "name = 'Dill'\n",
    "age = 26\n",
    "\n",
    "# Traditional\n",
    "print('My name is {name} and I am {age} years old'.format(name = name, age = age))\n",
    "print('My name is {name} and I am {age} years old'.format(name = 'Bob', age = 25))\n",
    "\n",
    "# f strings\n",
    "print(f'My name is {name} and I am {age} years old.')"
   ]
  },
  {
   "cell_type": "markdown",
   "metadata": {},
   "source": [
    "# Methods"
   ]
  },
  {
   "cell_type": "code",
   "execution_count": 5,
   "metadata": {
    "scrolled": true
   },
   "outputs": [
    {
     "name": "stdout",
     "output_type": "stream",
     "text": [
      "hey\n",
      "Hey\n"
     ]
    }
   ],
   "source": [
    "# Capitalize\n",
    "\n",
    "cap_str = 'hey'\n",
    "print(cap_str)\n",
    "\n",
    "print(cap_str.capitalize())"
   ]
  },
  {
   "cell_type": "code",
   "execution_count": 6,
   "metadata": {
    "scrolled": true
   },
   "outputs": [
    {
     "name": "stdout",
     "output_type": "stream",
     "text": [
      "Uhh, Hi? What is the point of this?\n",
      "uhh, hi? what is the point of this?\n"
     ]
    }
   ],
   "source": [
    "# Casefold\n",
    "\n",
    "casefold_str = 'Uhh, Hi? What is the point of this?'\n",
    "print(casefold_str)\n",
    "\n",
    "print(casefold_str.casefold())"
   ]
  },
  {
   "cell_type": "code",
   "execution_count": 7,
   "metadata": {
    "scrolled": true
   },
   "outputs": [
    {
     "name": "stdout",
     "output_type": "stream",
     "text": [
      "5\n"
     ]
    }
   ],
   "source": [
    "# Count\n",
    "\n",
    "count_str = 'Dillon love\\'s Dillon'\n",
    "print(count_str.count('l'))"
   ]
  },
  {
   "cell_type": "code",
   "execution_count": 10,
   "metadata": {
    "scrolled": true
   },
   "outputs": [
    {
     "name": "stdout",
     "output_type": "stream",
     "text": [
      "True\n",
      "True\n",
      "False\n"
     ]
    }
   ],
   "source": [
    "# Ends with\n",
    "\n",
    "ends_str = 'Dillon'\n",
    "print(ends_str.endswith('n'))\n",
    "print(ends_str.endswith('on'))\n",
    "print(ends_str.endswith('o'))"
   ]
  },
  {
   "cell_type": "code",
   "execution_count": 18,
   "metadata": {
    "scrolled": false
   },
   "outputs": [
    {
     "name": "stdout",
     "output_type": "stream",
     "text": [
      "Find method:\n",
      "2\n",
      "3\n",
      "-1\n",
      "Index method: \n",
      "2\n",
      "3\n"
     ]
    }
   ],
   "source": [
    "# Find\n",
    "\n",
    "print('Find method:')\n",
    "find_str = 'Dillon'\n",
    "print(find_str.find('l'))\n",
    "print(find_str.find('lo'))\n",
    "print(find_str.find('x'))\n",
    "\n",
    "# Index\n",
    "print('Index method: ')\n",
    "print(find_str.index('l'))\n",
    "print(find_str.index('lo'))"
   ]
  },
  {
   "cell_type": "code",
   "execution_count": 20,
   "metadata": {
    "scrolled": true
   },
   "outputs": [
    {
     "name": "stdout",
     "output_type": "stream",
     "text": [
      "True\n",
      "False\n"
     ]
    }
   ],
   "source": [
    "# Is alpha-numeric\n",
    "\n",
    "aln_str = '123abc'\n",
    "print(aln_str.isalnum())\n",
    "\n",
    "not_aln_str = '##AB'\n",
    "print(not_aln_str.isalnum())"
   ]
  },
  {
   "cell_type": "code",
   "execution_count": 22,
   "metadata": {},
   "outputs": [],
   "source": [
    "###\n",
    "#Above is same for:\n",
    "#isalpha()\tReturns True if all characters in the string are in the alphabet\n",
    "#isdecimal()\tReturns True if all characters in the string are decimals\n",
    "#isdigit()\tReturns True if all characters in the string are digits\n",
    "#isidentifier()\tReturns True if the string is an identifier\n",
    "#islower()\tReturns True if all characters in the string are lower case\n",
    "#isnumeric()\tReturns True if all characters in the string are numeric\n",
    "#isprintable()\tReturns True if all characters in the string are printable\n",
    "#isspace()\tReturns True if all characters in the string are whitespaces\n",
    "#istitle()\tReturns True if the string follows the rules of a title\n",
    "#isupper()\tReturns True if all characters in the string are upper case\n",
    "###"
   ]
  },
  {
   "cell_type": "code",
   "execution_count": 25,
   "metadata": {},
   "outputs": [
    {
     "name": "stdout",
     "output_type": "stream",
     "text": [
      "Dillon is funny\n",
      "how_is_this\n"
     ]
    }
   ],
   "source": [
    "# Join\n",
    "\n",
    "lst = ['Dillon', 'is', 'funny']\n",
    "join_lst = ' '.join(lst)\n",
    "print(join_lst)\n",
    "\n",
    "under = ['how', 'is', 'this']\n",
    "join_under = '_'.join(under)\n",
    "print(join_under)"
   ]
  },
  {
   "cell_type": "code",
   "execution_count": 27,
   "metadata": {
    "scrolled": false
   },
   "outputs": [
    {
     "name": "stdout",
     "output_type": "stream",
     "text": [
      "['Dillon', 'is', 'funny']\n",
      "['Dillo', ' is fu', '', 'y']\n"
     ]
    }
   ],
   "source": [
    "# Split\n",
    "\n",
    "sentence = 'Dillon is funny'\n",
    "sentence_split = sentence.split(' ')\n",
    "print(sentence_split)\n",
    "\n",
    "n_split = sentence.split('n')\n",
    "print(n_split)"
   ]
  },
  {
   "cell_type": "code",
   "execution_count": 28,
   "metadata": {},
   "outputs": [],
   "source": [
    "## Lots more, look online!"
   ]
  }
 ],
 "metadata": {
  "kernelspec": {
   "display_name": "Python 3",
   "language": "python",
   "name": "python3"
  },
  "language_info": {
   "codemirror_mode": {
    "name": "ipython",
    "version": 3
   },
   "file_extension": ".py",
   "mimetype": "text/x-python",
   "name": "python",
   "nbconvert_exporter": "python",
   "pygments_lexer": "ipython3",
   "version": "3.7.6"
  }
 },
 "nbformat": 4,
 "nbformat_minor": 4
}
