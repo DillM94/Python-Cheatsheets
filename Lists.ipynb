{
 "cells": [
  {
   "cell_type": "markdown",
   "metadata": {},
   "source": [
    "# Creating Lists"
   ]
  },
  {
   "cell_type": "code",
   "execution_count": 3,
   "metadata": {},
   "outputs": [
    {
     "name": "stdout",
     "output_type": "stream",
     "text": [
      "[]\n",
      "0\n",
      "[1, 'Dillon', True, 3.41, {'Name': 'Dill'}]\n"
     ]
    }
   ],
   "source": [
    "# Empty lists\n",
    "empty_list = []\n",
    "print(empty_list)\n",
    "print(len(empty_list))\n",
    "\n",
    "# Non-empty lists\n",
    "non_empty_list = [1, 'Dillon', True, 3.41, {'Name': 'Dill'}] # Can use multiple data types\n",
    "print(non_empty_list)"
   ]
  },
  {
   "cell_type": "markdown",
   "metadata": {},
   "source": [
    "# Adding Lists Together"
   ]
  },
  {
   "cell_type": "code",
   "execution_count": 4,
   "metadata": {},
   "outputs": [
    {
     "name": "stdout",
     "output_type": "stream",
     "text": [
      "[1, 'Dillon']\n"
     ]
    }
   ],
   "source": [
    "list_1 = [1]\n",
    "list_2 = ['A']\n",
    "\n",
    "list_3 = list_1 + list_2\n",
    "print(list_3)"
   ]
  },
  {
   "cell_type": "markdown",
   "metadata": {},
   "source": [
    "# Joining Lists Together"
   ]
  },
  {
   "cell_type": "code",
   "execution_count": 6,
   "metadata": {},
   "outputs": [
    {
     "name": "stdout",
     "output_type": "stream",
     "text": [
      "[('a', 'A'), ('b', 'B'), ('c', 'C')]\n"
     ]
    }
   ],
   "source": [
    "list_lower = ['a', 'b', 'c']\n",
    "list_upper = ['A', 'B', 'C']\n",
    "\n",
    "# zip returns tuple pairs\n",
    "list_letters = list(zip(list_lower, list_upper))\n",
    "print(list_letters)"
   ]
  },
  {
   "cell_type": "markdown",
   "metadata": {},
   "source": [
    "# Accessing List Indexes"
   ]
  },
  {
   "cell_type": "code",
   "execution_count": 7,
   "metadata": {},
   "outputs": [
    {
     "name": "stdout",
     "output_type": "stream",
     "text": [
      "Dill\n",
      "1\n",
      "['Dill', 42, 'Hello']\n",
      "[42, 'Hello', 2]\n"
     ]
    }
   ],
   "source": [
    "list_1 = ['Dill', 42, 'Hello', 2, 6, 1]\n",
    "print(list_1[0])\n",
    "print(list_1[-1])\n",
    "print(list_1[:3])\n",
    "print(list_1[1:4])"
   ]
  },
  {
   "cell_type": "code",
   "execution_count": 10,
   "metadata": {
    "scrolled": false
   },
   "outputs": [
    {
     "name": "stdout",
     "output_type": "stream",
     "text": [
      "['Hi', 'Bye']\n",
      "Bye\n"
     ]
    }
   ],
   "source": [
    "list_in_list = [['Hi', 'Bye'], [1, 2], ['Up', 'Down']]\n",
    "\n",
    "print(list_in_list[0])\n",
    "print(list_in_list[0][1])"
   ]
  },
  {
   "cell_type": "markdown",
   "metadata": {},
   "source": [
    "# Sorting Lists"
   ]
  },
  {
   "cell_type": "code",
   "execution_count": 34,
   "metadata": {},
   "outputs": [
    {
     "name": "stdout",
     "output_type": "stream",
     "text": [
      "['Bye', 'Dill', 'Hello']\n",
      "['Hello', 'Dill', 'Bye']\n"
     ]
    }
   ],
   "source": [
    "# Sort() sorts original in place\n",
    "\n",
    "list_1 = ['Dill', 'Bye', 'Hello']\n",
    "list_1.sort()\n",
    "print(list_1)\n",
    "list_1.sort(reverse = True)\n",
    "print(list_1)\n",
    "\n",
    "# Sorted() sorts o"
   ]
  },
  {
   "cell_type": "markdown",
   "metadata": {},
   "source": [
    "# Looping through Lists"
   ]
  },
  {
   "cell_type": "code",
   "execution_count": 11,
   "metadata": {
    "scrolled": true
   },
   "outputs": [
    {
     "name": "stdout",
     "output_type": "stream",
     "text": [
      "Dill\n",
      "42\n",
      "Hello\n",
      "2\n",
      "6\n",
      "1\n"
     ]
    }
   ],
   "source": [
    "list_1 = ['Dill', 42, 'Hello', 2, 6, 1]\n",
    "\n",
    "for var in list_1:\n",
    "    print(var)"
   ]
  },
  {
   "cell_type": "code",
   "execution_count": 12,
   "metadata": {
    "scrolled": true
   },
   "outputs": [
    {
     "name": "stdout",
     "output_type": "stream",
     "text": [
      "Hi\n",
      "Bye\n",
      "1\n",
      "2\n",
      "Up\n",
      "Down\n"
     ]
    }
   ],
   "source": [
    "list_in_list = [['Hi', 'Bye'], [1, 2], ['Up', 'Down']]\n",
    "\n",
    "for lst in list_in_list:\n",
    "    for var in lst:\n",
    "        print(var)"
   ]
  },
  {
   "cell_type": "markdown",
   "metadata": {},
   "source": [
    "# List Methods"
   ]
  },
  {
   "cell_type": "code",
   "execution_count": 13,
   "metadata": {
    "scrolled": true
   },
   "outputs": [
    {
     "name": "stdout",
     "output_type": "stream",
     "text": [
      "[]\n",
      "[10]\n"
     ]
    }
   ],
   "source": [
    "# Append\n",
    "\n",
    "append_list = []\n",
    "print(append_list)\n",
    "append_list.append(10)\n",
    "print(append_list)"
   ]
  },
  {
   "cell_type": "code",
   "execution_count": 14,
   "metadata": {
    "scrolled": true
   },
   "outputs": [
    {
     "name": "stdout",
     "output_type": "stream",
     "text": [
      "[10, 2, 3]\n",
      "[]\n"
     ]
    }
   ],
   "source": [
    "# Clear\n",
    "\n",
    "clear_list = [10, 2, 3]\n",
    "print(clear_list)\n",
    "clear_list.clear()\n",
    "print(clear_list)"
   ]
  },
  {
   "cell_type": "code",
   "execution_count": 15,
   "metadata": {
    "scrolled": true
   },
   "outputs": [
    {
     "name": "stdout",
     "output_type": "stream",
     "text": [
      "['Dillon', 'Hi']\n",
      "['Dillon', 'Hi']\n"
     ]
    }
   ],
   "source": [
    "# Copy\n",
    "\n",
    "original_list = ['Dillon', 'Hi']\n",
    "print(original_list)\n",
    "copy_list = original_list.copy()\n",
    "print(copy_list)"
   ]
  },
  {
   "cell_type": "code",
   "execution_count": 19,
   "metadata": {
    "scrolled": true
   },
   "outputs": [
    {
     "name": "stdout",
     "output_type": "stream",
     "text": [
      "5\n",
      "0\n",
      "2\n"
     ]
    }
   ],
   "source": [
    "# Count\n",
    "\n",
    "count_ones = [1,1,2,1,2,3,4,1,1,4]\n",
    "print(count_ones.count(1))\n",
    "count_ls = ['Dillon', 'Hello', 'love']\n",
    "print(count_ls.count('l')) # Looks for just l per index\n",
    "print(count_ls[1].count('l')) # Looks for l in index 1 - 'Hello'"
   ]
  },
  {
   "cell_type": "code",
   "execution_count": 20,
   "metadata": {
    "scrolled": true
   },
   "outputs": [
    {
     "name": "stdout",
     "output_type": "stream",
     "text": [
      "1\n"
     ]
    }
   ],
   "source": [
    "# Index\n",
    "\n",
    "index_list = ['Dillon', 'Hi']\n",
    "print(index_list.index('Hi'))"
   ]
  },
  {
   "cell_type": "code",
   "execution_count": 27,
   "metadata": {
    "scrolled": true
   },
   "outputs": [
    {
     "name": "stdout",
     "output_type": "stream",
     "text": [
      "['Dill', 42, 'Hello', 2, 6, 1]\n",
      "['Dill', 'Fourty-two', 42, 'Hello', 2, 6, 1]\n",
      "['Dill', 'Fourty-two', 42, 'Hello', 2, 6, 1, 'New']\n"
     ]
    }
   ],
   "source": [
    "# Insert\n",
    "\n",
    "insert_list = ['Dill', 42, 'Hello', 2, 6, 1]\n",
    "print(insert_list)\n",
    "insert_list.insert(1, 'Fourty-two')\n",
    "print(insert_list)\n",
    "insert_list.insert(7, 'New')\n",
    "print(insert_list)"
   ]
  },
  {
   "cell_type": "code",
   "execution_count": 29,
   "metadata": {},
   "outputs": [
    {
     "name": "stdout",
     "output_type": "stream",
     "text": [
      "['Dill', 42, 'Hello', 2, 6, 1]\n",
      "['Dill', 42, 'Hello', 2, 6]\n"
     ]
    }
   ],
   "source": [
    "# Pop\n",
    "\n",
    "pop_list = ['Dill', 42, 'Hello', 2, 6, 1]\n",
    "print(pop_list)\n",
    "pop_list.pop()\n",
    "print(pop_list)"
   ]
  },
  {
   "cell_type": "code",
   "execution_count": 30,
   "metadata": {
    "scrolled": true
   },
   "outputs": [
    {
     "name": "stdout",
     "output_type": "stream",
     "text": [
      "['Dill', 42, 'Hello', 2, 6, 'Hello', 6, 1]\n",
      "['Dill', 42, 2, 6, 'Hello', 6, 1]\n"
     ]
    }
   ],
   "source": [
    "# Remove\n",
    "\n",
    "remove_list = ['Dill', 42, 'Hello', 2, 6, 'Hello', 6, 1]\n",
    "print(remove_list)\n",
    "remove_list.remove('Hello')\n",
    "print(remove_list)"
   ]
  },
  {
   "cell_type": "code",
   "execution_count": 31,
   "metadata": {
    "scrolled": true
   },
   "outputs": [
    {
     "name": "stdout",
     "output_type": "stream",
     "text": [
      "['Dill', 42, 'Hello', 2, 6, 1]\n",
      "[1, 6, 2, 'Hello', 42, 'Dill']\n"
     ]
    }
   ],
   "source": [
    "# Reverse\n",
    "\n",
    "reverse_list = ['Dill', 42, 'Hello', 2, 6, 1]\n",
    "print(reverse_list)\n",
    "reverse_list.reverse()\n",
    "print(reverse_list)"
   ]
  },
  {
   "cell_type": "code",
   "execution_count": null,
   "metadata": {},
   "outputs": [],
   "source": []
  }
 ],
 "metadata": {
  "kernelspec": {
   "display_name": "Python 3",
   "language": "python",
   "name": "python3"
  },
  "language_info": {
   "codemirror_mode": {
    "name": "ipython",
    "version": 3
   },
   "file_extension": ".py",
   "mimetype": "text/x-python",
   "name": "python",
   "nbconvert_exporter": "python",
   "pygments_lexer": "ipython3",
   "version": "3.7.6"
  }
 },
 "nbformat": 4,
 "nbformat_minor": 4
}
