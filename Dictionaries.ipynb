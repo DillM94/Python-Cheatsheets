{
 "cells": [
  {
   "cell_type": "markdown",
   "metadata": {},
   "source": [
    "# Creating a dictionary"
   ]
  },
  {
   "cell_type": "code",
   "execution_count": 4,
   "metadata": {
    "scrolled": false
   },
   "outputs": [
    {
     "name": "stdout",
     "output_type": "stream",
     "text": [
      "{}\n",
      "{'Name': 'Dillon', 'Age': 26, 'Python': True, 'Other dict': {'Happy': 'Yes', 'Year': 2020}}\n"
     ]
    }
   ],
   "source": [
    "'''\n",
    "dictionary = {\n",
    "key1: value1,\n",
    "key2: value2,\n",
    "key3: value3\n",
    "}\n",
    "\n",
    "'''\n",
    "\n",
    "empty_dict = {}\n",
    "print(empty_dict)\n",
    "\n",
    "my_dict = {\n",
    "    'Name': 'Dillon', \n",
    "    'Age': 26,\n",
    "    'Python': True,\n",
    "    'Other dict': {'Happy': 'Yes', 'Year': 2020}\n",
    "}\n",
    "print(my_dict)"
   ]
  },
  {
   "cell_type": "markdown",
   "metadata": {},
   "source": [
    "# Accessing Items"
   ]
  },
  {
   "cell_type": "code",
   "execution_count": 12,
   "metadata": {
    "scrolled": true
   },
   "outputs": [
    {
     "name": "stdout",
     "output_type": "stream",
     "text": [
      "dict_keys(['Name', 'Age', 'Python'])\n",
      "dict_values(['Dillon', 26, True])\n",
      "Dillon\n",
      "dict_items([('Name', 'Dillon'), ('Age', 26), ('Python', True)])\n"
     ]
    }
   ],
   "source": [
    "my_dict = {\n",
    "    'Name': 'Dillon', \n",
    "    'Age': 26,\n",
    "    'Python': True\n",
    "}\n",
    "\n",
    "# Keys:\n",
    "print(my_dict.keys())\n",
    "\n",
    "# Values:\n",
    "print(my_dict.values())\n",
    "print(my_dict.get('Name'))\n",
    "\n",
    "# Both:\n",
    "print(my_dict.items())"
   ]
  },
  {
   "cell_type": "code",
   "execution_count": 14,
   "metadata": {
    "scrolled": true
   },
   "outputs": [
    {
     "name": "stdout",
     "output_type": "stream",
     "text": [
      "2020\n",
      "1\n"
     ]
    }
   ],
   "source": [
    "inner_dict = {\n",
    "    'Other dict': {'Happy': 'Yes', 'Year': 2020},\n",
    "    'Best numbers': [20, 5, 1, 3]\n",
    "}\n",
    "\n",
    "# Dict is dict[Outer key][Inner key]\n",
    "print(inner_dict['Other dict']['Year'])\n",
    "\n",
    "# List is dict[Key][Index]\n",
    "print(inner_dict['Best numbers'][2])"
   ]
  },
  {
   "cell_type": "markdown",
   "metadata": {},
   "source": [
    "# Changing existing dictionaries"
   ]
  },
  {
   "cell_type": "code",
   "execution_count": 18,
   "metadata": {
    "scrolled": true
   },
   "outputs": [
    {
     "name": "stdout",
     "output_type": "stream",
     "text": [
      "{'Name': 'Dillon', 'Age': 26}\n",
      "{'Name': 'Dillon', 'Age': 26, 'New': 20}\n",
      "{'Name': 'Dillon', 'Age': 26, 'New': 20, 'Key1': 'Hi', 'Key2': 'Bye'}\n"
     ]
    }
   ],
   "source": [
    "my_dict = {\n",
    "    'Name': 'Dillon', \n",
    "    'Age': 26,\n",
    "    'Python': True\n",
    "}\n",
    "\n",
    "# pop\n",
    "my_dict.pop('Python')\n",
    "print(my_dict)\n",
    "\n",
    "# adding a key\n",
    "my_dict['New'] = 20\n",
    "print(my_dict)\n",
    "\n",
    "# Adding multiple new entries\n",
    "my_dict.update({\n",
    "    'Key1': 'Hi', \n",
    "    'Key2': 'Bye'\n",
    "})\n",
    "print(my_dict)"
   ]
  },
  {
   "cell_type": "markdown",
   "metadata": {},
   "source": [
    "# Using dictionaries as reference"
   ]
  },
  {
   "cell_type": "code",
   "execution_count": 25,
   "metadata": {},
   "outputs": [
    {
     "name": "stdout",
     "output_type": "stream",
     "text": [
      "234.0\n"
     ]
    }
   ],
   "source": [
    "conversion = {\n",
    "    'inch_to_mm': 2.54,\n",
    "    'mm_to_m': 0.001,\n",
    "    'm_to_km': 0.001,\n",
    "    'km_to_m': 1000,\n",
    "    'm_to_mm': 1000,\n",
    "    'mm_to_inch': 0.039\n",
    "}\n",
    "\n",
    "km_distance = 0.234\n",
    "m_distance = km_distance * conversion.get('km_to_m')\n",
    "print(m_distance)"
   ]
  }
 ],
 "metadata": {
  "kernelspec": {
   "display_name": "Python 3",
   "language": "python",
   "name": "python3"
  },
  "language_info": {
   "codemirror_mode": {
    "name": "ipython",
    "version": 3
   },
   "file_extension": ".py",
   "mimetype": "text/x-python",
   "name": "python",
   "nbconvert_exporter": "python",
   "pygments_lexer": "ipython3",
   "version": "3.7.6"
  }
 },
 "nbformat": 4,
 "nbformat_minor": 4
}
