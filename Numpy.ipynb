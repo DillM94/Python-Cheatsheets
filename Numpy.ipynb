{
 "cells": [
  {
   "cell_type": "code",
   "execution_count": 2,
   "metadata": {},
   "outputs": [],
   "source": [
    "import numpy as np"
   ]
  },
  {
   "cell_type": "markdown",
   "metadata": {},
   "source": [
    "# Creating arrrays"
   ]
  },
  {
   "cell_type": "code",
   "execution_count": 11,
   "metadata": {
    "scrolled": true
   },
   "outputs": [
    {
     "name": "stdout",
     "output_type": "stream",
     "text": [
      "[ 2  1  4  5 10]\n",
      "\n",
      "[[1 2 3]\n",
      " [4 5 6]]\n",
      "\n",
      "[[[1 2]\n",
      "  [3 4]]\n",
      "\n",
      " [[5 6]\n",
      "  [7 8]]]\n"
     ]
    }
   ],
   "source": [
    "# 1D:\n",
    "one_d = np.array([2,1,4,5,10])\n",
    "print(one_d)\n",
    "print('')\n",
    "\n",
    "# 2D:\n",
    "two_d = np.array([[1,2,3],[4,5,6]])\n",
    "print(two_d)\n",
    "print('')\n",
    "\n",
    "# 3D:\n",
    "three_d = np.array([[[1,2],[3,4]],[[5,6],[7,8]]])\n",
    "print(three_d)"
   ]
  },
  {
   "cell_type": "markdown",
   "metadata": {},
   "source": [
    "# Accessing Arrays"
   ]
  },
  {
   "cell_type": "code",
   "execution_count": 12,
   "metadata": {
    "scrolled": true
   },
   "outputs": [
    {
     "name": "stdout",
     "output_type": "stream",
     "text": [
      "2\n",
      "10\n",
      "[4 5]\n"
     ]
    }
   ],
   "source": [
    "# 1D - Columns only\n",
    "one_d = np.array([2,1,4,5,10])\n",
    "print(one_d[0])\n",
    "print(one_d[-1])\n",
    "print(one_d[2:4])"
   ]
  },
  {
   "cell_type": "code",
   "execution_count": 15,
   "metadata": {
    "scrolled": true
   },
   "outputs": [
    {
     "name": "stdout",
     "output_type": "stream",
     "text": [
      "3\n",
      "[2 5]\n",
      "[6]\n"
     ]
    }
   ],
   "source": [
    "# 2D - Rows, Columns\n",
    "two_d = np.array([[1,2,3],[4,5,6]])\n",
    "print(two_d[0,2])\n",
    "print(two_d[:,1])\n",
    "print(two_d[1:,-1])"
   ]
  },
  {
   "cell_type": "code",
   "execution_count": 17,
   "metadata": {
    "scrolled": true
   },
   "outputs": [
    {
     "name": "stdout",
     "output_type": "stream",
     "text": [
      "4\n",
      "[1 5]\n"
     ]
    }
   ],
   "source": [
    "# 3D - Array, Rows, Columns\n",
    "three_d = np.array([[[1,2],[3,4]],[[5,6],[7,8]]])\n",
    "print(three_d[0,1,1])\n",
    "print(three_d[:,0,0])"
   ]
  },
  {
   "cell_type": "code",
   "execution_count": 21,
   "metadata": {
    "scrolled": true
   },
   "outputs": [
    {
     "name": "stdout",
     "output_type": "stream",
     "text": [
      "[[ 1  2  3  4  5  6]\n",
      " [ 7  8  9 10 11 12]\n",
      " [13 14 15 16 17 18]]\n",
      "\n",
      "[[ 1  3  5]\n",
      " [13 15 17]]\n"
     ]
    }
   ],
   "source": [
    "big_2d = np.array([[1,2,3,4,5,6],[7,8,9,10,11,12],[13,14,15,16,17,18]])\n",
    "print(big_2d)\n",
    "print('')\n",
    "\n",
    "## Notation = [row_start:row_finish:row_step, col_start:col_finish:col_step]\n",
    "print(big_2d[0::2,0::2])"
   ]
  },
  {
   "cell_type": "markdown",
   "metadata": {},
   "source": [
    "# Element-wise operations"
   ]
  },
  {
   "cell_type": "code",
   "execution_count": 30,
   "metadata": {},
   "outputs": [
    {
     "name": "stdout",
     "output_type": "stream",
     "text": [
      "[[ 2  4]\n",
      " [ 6 12]]\n",
      "\n",
      "[[4 5]\n",
      " [6 9]]\n",
      "\n",
      "[[ 3  5]\n",
      " [ 7 11]]\n"
     ]
    }
   ],
   "source": [
    "arr = np.array([[1,2],[3,6]])\n",
    "\n",
    "print(arr * 2) \n",
    "print('')\n",
    "print(arr + 3)\n",
    "print('')\n",
    "\n",
    "new_arr = np.array([[2,3],[4,5]])\n",
    "arr += new_arr\n",
    "print(arr)"
   ]
  },
  {
   "cell_type": "markdown",
   "metadata": {},
   "source": [
    "# Logical Operations"
   ]
  },
  {
   "cell_type": "code",
   "execution_count": 34,
   "metadata": {
    "scrolled": false
   },
   "outputs": [
    {
     "name": "stdout",
     "output_type": "stream",
     "text": [
      "[[False False]\n",
      " [ True  True]]\n",
      "\n",
      "[[ True False]\n",
      " [False False]]\n",
      "\n",
      "[[False  True]\n",
      " [False  True]]\n"
     ]
    }
   ],
   "source": [
    "arr = np.array([[1,2],[3,6]])\n",
    "print(arr > 2)\n",
    "print('')\n",
    "print(arr == 1)\n",
    "print('')\n",
    "print(arr % 2 == 0)"
   ]
  },
  {
   "cell_type": "markdown",
   "metadata": {},
   "source": [
    "# Looping through arrays"
   ]
  },
  {
   "cell_type": "code",
   "execution_count": 36,
   "metadata": {},
   "outputs": [
    {
     "name": "stdout",
     "output_type": "stream",
     "text": [
      "[1 2]\n",
      "1\n",
      "2\n",
      "[3 6]\n",
      "3\n",
      "6\n"
     ]
    }
   ],
   "source": [
    "arr = np.array([[1,2],[3,6]])\n",
    "\n",
    "for row in arr:\n",
    "    print(row)\n",
    "    for col in row:\n",
    "        print(col)"
   ]
  },
  {
   "cell_type": "code",
   "execution_count": 52,
   "metadata": {},
   "outputs": [
    {
     "name": "stdout",
     "output_type": "stream",
     "text": [
      "[[1 2]\n",
      " [3 4]]\n",
      "\n",
      "[1 2]\n",
      "\n",
      "1\n",
      "\n",
      "2\n",
      "\n",
      "[3 4]\n",
      "\n",
      "3\n",
      "\n",
      "4\n",
      "\n"
     ]
    }
   ],
   "source": [
    "three_d = np.array([[[1,2],[3,4]],[[5,6],[7,8]]])\n",
    "\n",
    "# Runs for one array [[1,2],[3,4]]\n",
    "for array in three_d:\n",
    "    print(array)\n",
    "    print('')\n",
    "    for row in array:\n",
    "        print(row)\n",
    "        print('')\n",
    "        for col in row:\n",
    "            print(col)\n",
    "            print('')\n",
    "    break"
   ]
  },
  {
   "cell_type": "markdown",
   "metadata": {},
   "source": [
    "# Numpy Methods"
   ]
  },
  {
   "cell_type": "code",
   "execution_count": 58,
   "metadata": {
    "scrolled": true
   },
   "outputs": [
    {
     "name": "stdout",
     "output_type": "stream",
     "text": [
      "[2 3 4]\n",
      "[1 3 5]\n"
     ]
    }
   ],
   "source": [
    "# arange (start,stop,step)\n",
    "new_arr = np.arange(2,5)\n",
    "print(new_arr)\n",
    "\n",
    "skip_arr = np.arange(1,6,2)\n",
    "print(skip_arr)"
   ]
  },
  {
   "cell_type": "code",
   "execution_count": 68,
   "metadata": {
    "scrolled": true
   },
   "outputs": [
    {
     "name": "stdout",
     "output_type": "stream",
     "text": [
      "[0. 0. 0. 0. 0.]\n",
      "\n",
      "[[1. 1. 1. 1. 1.]\n",
      " [1. 1. 1. 1. 1.]\n",
      " [1. 1. 1. 1. 1.]\n",
      " [1. 1. 1. 1. 1.]\n",
      " [1. 1. 1. 1. 1.]]\n",
      "\n",
      "[[1. 0. 0.]\n",
      " [0. 1. 0.]\n",
      " [0. 0. 1.]]\n"
     ]
    }
   ],
   "source": [
    "# zeros (1D: colums, 2D: rows, columns)\n",
    "zero_arr = np.zeros(5)\n",
    "print(zero_arr)\n",
    "print('')\n",
    "\n",
    "# ones (1D: colums, 2D: rows, columns)\n",
    "one_arr = np.ones((5,5))\n",
    "print(one_arr)\n",
    "print('')\n",
    "\n",
    "# eye (2D automatically)\n",
    "eye_arr = np.eye(3)\n",
    "print(eye_arr)"
   ]
  },
  {
   "cell_type": "code",
   "execution_count": 69,
   "metadata": {},
   "outputs": [
    {
     "name": "stdout",
     "output_type": "stream",
     "text": [
      "[  1.  12.  23.  34.  45.  56.  67.  78.  89. 100.]\n"
     ]
    }
   ],
   "source": [
    "# Linspace (start, stop, equal spaces)\n",
    "spaced = np.linspace(1,100,10)\n",
    "print(spaced)"
   ]
  },
  {
   "cell_type": "code",
   "execution_count": 71,
   "metadata": {},
   "outputs": [
    {
     "name": "stdout",
     "output_type": "stream",
     "text": [
      "[[-0.44965273 -0.28642172  0.79793196]\n",
      " [ 0.32231759  0.33084513 -0.23902442]\n",
      " [ 1.3232914   1.40351487 -0.78736027]\n",
      " [-0.39467563 -0.17458505  0.5610924 ]]\n"
     ]
    }
   ],
   "source": [
    "# random (row,col)\n",
    "rand_arr = np.random.randn(4,3)\n",
    "print(rand_arr)"
   ]
  },
  {
   "cell_type": "code",
   "execution_count": 72,
   "metadata": {
    "scrolled": false
   },
   "outputs": [
    {
     "name": "stdout",
     "output_type": "stream",
     "text": [
      "8\n",
      "12\n"
     ]
    }
   ],
   "source": [
    "# Size (rows * columns)\n",
    "three_d = np.array([[[1,2],[3,4]],[[5,6],[7,8]]])\n",
    "print(np.size(three_d))\n",
    "\n",
    "rand_arr = np.random.randn(4,3)\n",
    "print(np.size(rand_arr))"
   ]
  },
  {
   "cell_type": "code",
   "execution_count": 75,
   "metadata": {
    "scrolled": true
   },
   "outputs": [
    {
     "name": "stdout",
     "output_type": "stream",
     "text": [
      "array, row, col\n",
      "(2, 2, 2)\n",
      "(4, 3)\n"
     ]
    }
   ],
   "source": [
    "# Shape (dimensions)\n",
    "three_d = np.array([[[1,2],[3,4]],[[5,6],[7,8]]])\n",
    "print('array, row, col')\n",
    "print(np.shape(three_d))"
   ]
  },
  {
   "cell_type": "code",
   "execution_count": 84,
   "metadata": {},
   "outputs": [
    {
     "name": "stdout",
     "output_type": "stream",
     "text": [
      "[[ 0.28671302  0.00685951 -0.56556551 -1.29065004 -0.5322222   0.38101208\n",
      "   0.76815798 -1.4039191   1.64026309 -0.36689021  0.49100222 -1.68742268\n",
      "  -0.84822273 -0.9135087   0.60702757  0.48656815]]\n",
      "(1, 16)\n",
      "\n",
      "[[ 0.28671302  0.00685951 -0.56556551 -1.29065004]\n",
      " [-0.5322222   0.38101208  0.76815798 -1.4039191 ]\n",
      " [ 1.64026309 -0.36689021  0.49100222 -1.68742268]\n",
      " [-0.84822273 -0.9135087   0.60702757  0.48656815]]\n",
      "(4, 4)\n",
      "\n",
      "[[[ 0.28671302  0.00685951]\n",
      "  [-0.56556551 -1.29065004]\n",
      "  [-0.5322222   0.38101208]\n",
      "  [ 0.76815798 -1.4039191 ]]\n",
      "\n",
      " [[ 1.64026309 -0.36689021]\n",
      "  [ 0.49100222 -1.68742268]\n",
      "  [-0.84822273 -0.9135087 ]\n",
      "  [ 0.60702757  0.48656815]]]\n",
      "(2, 4, 2)\n"
     ]
    }
   ],
   "source": [
    "# reshape (array, row, col)\n",
    "\n",
    "rand_arr = np.random.randn(1,16)\n",
    "print(rand_arr)\n",
    "print(np.shape(rand_arr))\n",
    "print('')\n",
    "\n",
    "rand_two_d = rand_arr.reshape(4,4)\n",
    "print(rand_two_d)\n",
    "print(np.shape(rand_two_d))\n",
    "print('')\n",
    "\n",
    "rand_three_d = rand_arr.reshape(2,4,2)\n",
    "print(rand_three_d)\n",
    "print(np.shape(rand_three_d))"
   ]
  },
  {
   "cell_type": "markdown",
   "metadata": {},
   "source": [
    "# Math functions (element-wise)"
   ]
  },
  {
   "cell_type": "code",
   "execution_count": 85,
   "metadata": {},
   "outputs": [],
   "source": [
    "# np.log(array)\n",
    "# np.sin(array)\n",
    "# np.exp(array)\n",
    "# np.sqrt(array)"
   ]
  },
  {
   "cell_type": "markdown",
   "metadata": {},
   "source": [
    "# Linear Algebra"
   ]
  },
  {
   "cell_type": "code",
   "execution_count": 88,
   "metadata": {
    "scrolled": true
   },
   "outputs": [
    {
     "name": "stdout",
     "output_type": "stream",
     "text": [
      "32\n"
     ]
    }
   ],
   "source": [
    "# dot product\n",
    "x = np.array([1,2,3])\n",
    "y = np.array([4,5,6])\n",
    "\n",
    "print(x.dot(y))"
   ]
  },
  {
   "cell_type": "code",
   "execution_count": 90,
   "metadata": {
    "scrolled": true
   },
   "outputs": [
    {
     "name": "stdout",
     "output_type": "stream",
     "text": [
      "[[30 36]\n",
      " [66 81]]\n"
     ]
    }
   ],
   "source": [
    "# matrix multiplication (i,j)*(j,k) = (i,k) (3,2)*(2,3) = (2,2)\n",
    "x = np.array(([1,2,3], [4,5,6]))\n",
    "y = np.array(([1,2], [4,5], [7,8]))\n",
    "\n",
    "z = np.dot(x, y)\n",
    "\n",
    "print(z)"
   ]
  },
  {
   "cell_type": "code",
   "execution_count": 92,
   "metadata": {
    "scrolled": true
   },
   "outputs": [
    {
     "name": "stdout",
     "output_type": "stream",
     "text": [
      "[[ 2.33333333 -1.33333333  1.        ]\n",
      " [-6.66666667  3.66666667 -2.        ]\n",
      " [ 4.         -2.          1.        ]]\n"
     ]
    }
   ],
   "source": [
    "# Inverse (n,n) matrix needed\n",
    "x = np.array(([1,2,3], [4,5,6], [4,2,1]))\n",
    "print(np.linalg.inv(x))"
   ]
  },
  {
   "cell_type": "code",
   "execution_count": 94,
   "metadata": {
    "scrolled": true
   },
   "outputs": [
    {
     "name": "stdout",
     "output_type": "stream",
     "text": [
      "-3.0000000000000004\n"
     ]
    }
   ],
   "source": [
    "# Determinant\n",
    "x = np.array(([1,2,3], [4,5,6], [4,2,1]))\n",
    "print(np.linalg.det(x))"
   ]
  },
  {
   "cell_type": "markdown",
   "metadata": {},
   "source": [
    "# Statistics and Probabilty"
   ]
  },
  {
   "cell_type": "code",
   "execution_count": 106,
   "metadata": {
    "scrolled": true
   },
   "outputs": [
    {
     "name": "stdout",
     "output_type": "stream",
     "text": [
      "24.5\n",
      "[ 4.5 14.5 24.5 34.5 44.5]\n",
      "0.5\n",
      "0.24\n"
     ]
    }
   ],
   "source": [
    "# mean\n",
    "x = np.arange(0,50)\n",
    "print(np.mean(x))\n",
    "\n",
    "# mean along an axis\n",
    "y = x.reshape(5,10)\n",
    "print(np.mean(y, axis = 1))\n",
    "\n",
    "# mean to get percent:\n",
    "print(np.mean(x < 25))\n",
    "print(np.mean(x < 12))"
   ]
  },
  {
   "cell_type": "code",
   "execution_count": 107,
   "metadata": {
    "scrolled": true
   },
   "outputs": [
    {
     "name": "stdout",
     "output_type": "stream",
     "text": [
      "24.5\n"
     ]
    }
   ],
   "source": [
    "# median\n",
    "x = np.arange(0,50)\n",
    "print(np.median(x))"
   ]
  },
  {
   "cell_type": "code",
   "execution_count": 6,
   "metadata": {
    "scrolled": true
   },
   "outputs": [
    {
     "name": "stdout",
     "output_type": "stream",
     "text": [
      "31.4\n",
      "18.0\n"
     ]
    }
   ],
   "source": [
    "# percentiles and IQR\n",
    "x = np.array([31,22,32,31,42,41,5,13,14,24,15,12,41])\n",
    "x_sort = np.sort(x)\n",
    "any_percentile = np.percentile(x_sort, 70)\n",
    "print(any_percentile)\n",
    "\n",
    "lower = np.percentile(x_sort, 25)\n",
    "upper = np.percentile(x_sort, 75)\n",
    "iqr = upper - lower\n",
    "print(iqr)"
   ]
  },
  {
   "cell_type": "code",
   "execution_count": 9,
   "metadata": {
    "scrolled": true
   },
   "outputs": [
    {
     "name": "stdout",
     "output_type": "stream",
     "text": [
      "[14. 24. 32.]\n"
     ]
    }
   ],
   "source": [
    "x = np.array([31,22,32,31,42,41,5,13,14,24,15,12,41])\n",
    "x_sort = np.sort(x)\n",
    "\n",
    "all_percentiles = np.percentile(x_sort, [25, 50, 75])\n",
    "print(all_percentiles)"
   ]
  },
  {
   "cell_type": "code",
   "execution_count": 10,
   "metadata": {},
   "outputs": [],
   "source": [
    "# Quantile vs Percentile: \n",
    "# quantile = [0,1] 0.5\n",
    "# percentile = [0,100] 50"
   ]
  },
  {
   "cell_type": "code",
   "execution_count": 6,
   "metadata": {
    "scrolled": true
   },
   "outputs": [
    {
     "name": "stdout",
     "output_type": "stream",
     "text": [
      "11.97976597849091\n",
      "1.4319016068131092\n",
      "143.5147928994083\n"
     ]
    }
   ],
   "source": [
    "# standard deviation\n",
    "x = np.array([31,22,32,31,42,41,5,13,14,24,15,12,41])\n",
    "print(x.std())\n",
    "print((max(x) - np.mean(x))/x.std()) ## How many standard deviations is the max away from the mean\n",
    "\n",
    "# variance\n",
    "print(x.var())"
   ]
  },
  {
   "cell_type": "code",
   "execution_count": 124,
   "metadata": {},
   "outputs": [
    {
     "name": "stdout",
     "output_type": "stream",
     "text": [
      "[-2.21193775e+00 -3.48656065e+00 -2.45527684e+01  8.46785663e+00\n",
      " -7.80113336e+00  1.68561815e+00 -8.46058325e+00 -1.35771629e+00\n",
      "  3.29199592e+00 -2.18784651e+01  2.06859107e-02 -8.81315183e-01\n",
      " -4.36848174e+00 -1.38543846e+01  1.34560036e+01 -8.45191091e+00\n",
      "  6.53735022e+00 -2.42591115e+01 -2.13024545e+01  1.57813452e+01\n",
      " -3.80237072e+00  2.63705529e+00  7.77137213e+00  1.48881600e+01\n",
      "  2.63365139e+01  5.69496607e+00  1.40773171e+01 -2.04734426e+01\n",
      "  3.50123112e+00  2.42428400e+00  1.02083747e+01  2.74431602e+00\n",
      " -1.98815320e+01 -5.05081030e+00 -1.15336815e+01 -1.60518671e+01\n",
      " -3.94011326e+00  3.40043561e+00 -1.20807002e+01  7.06381960e+00\n",
      " -1.61032525e+01 -1.07735486e+01 -5.00236119e+00 -3.87309821e+00\n",
      " -1.89359359e+00  4.40168425e+01 -3.21234370e+01  3.73504428e+00\n",
      " -2.55892619e-02 -1.24162811e+01]\n"
     ]
    }
   ],
   "source": [
    "# Normal Distribution\n",
    "mean = 0\n",
    "std = 1.2\n",
    "norm_dist = np.random.normal(0, 12, 50)\n",
    "print(norm_dist)"
   ]
  },
  {
   "cell_type": "code",
   "execution_count": 127,
   "metadata": {},
   "outputs": [
    {
     "name": "stdout",
     "output_type": "stream",
     "text": [
      "[[29 34 32 26 31 37 26 31 33 28]\n",
      " [28 28 25 34 27 30 36 32 35 36]\n",
      " [32 30 29 29 28 25 23 32 34 30]\n",
      " [27 27 25 31 35 26 33 28 31 31]\n",
      " [28 33 34 32 33 28 30 32 32 33]]\n"
     ]
    }
   ],
   "source": [
    "# Binomial Distribution\n",
    "trials = 50\n",
    "prob = 0.6\n",
    "bi_dist = np.random.binomial(trials, prob, size = (5,10))\n",
    "print(bi_dist)"
   ]
  }
 ],
 "metadata": {
  "kernelspec": {
   "display_name": "Python 3",
   "language": "python",
   "name": "python3"
  },
  "language_info": {
   "codemirror_mode": {
    "name": "ipython",
    "version": 3
   },
   "file_extension": ".py",
   "mimetype": "text/x-python",
   "name": "python",
   "nbconvert_exporter": "python",
   "pygments_lexer": "ipython3",
   "version": "3.7.6"
  }
 },
 "nbformat": 4,
 "nbformat_minor": 4
}
