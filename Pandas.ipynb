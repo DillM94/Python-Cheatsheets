{
 "cells": [
  {
   "cell_type": "code",
   "execution_count": 2,
   "metadata": {},
   "outputs": [],
   "source": [
    "import pandas as pd"
   ]
  },
  {
   "cell_type": "markdown",
   "metadata": {},
   "source": [
    "# Creating Dataframes"
   ]
  },
  {
   "cell_type": "code",
   "execution_count": 2,
   "metadata": {
    "scrolled": true
   },
   "outputs": [
    {
     "name": "stdout",
     "output_type": "stream",
     "text": [
      "   ID Name  Age\n",
      "0   1    D   26\n",
      "1   2    S   24\n",
      "2   3    S   27\n",
      "3   4    M   22\n"
     ]
    }
   ],
   "source": [
    "## Dictionary: colum: [items]\n",
    "'''\n",
    "data = ({\n",
    "column: items,\n",
    "column: items\n",
    "})\n",
    "'''\n",
    "\n",
    "df = pd.DataFrame({\n",
    "    'ID': [1,2,3,4],\n",
    "    'Name': ['D', 'S', 'S', 'M'],\n",
    "    'Age': [26, 24, 27, 22]\n",
    "})\n",
    "\n",
    "print(df)"
   ]
  },
  {
   "cell_type": "code",
   "execution_count": 4,
   "metadata": {
    "scrolled": true
   },
   "outputs": [
    {
     "name": "stdout",
     "output_type": "stream",
     "text": [
      "   ID Name  Age\n",
      "0   1    D   26\n",
      "1   2    S   24\n",
      "2   3    S   27\n",
      "3   4    M   22\n"
     ]
    }
   ],
   "source": [
    "## List: [row1],[row2]\n",
    "'''\n",
    "data = ([\n",
    "[row1col1, row1col2],\n",
    "[row2col1, row2col2]\n",
    "], columns = [col1, col2])\n",
    "'''\n",
    "\n",
    "df = pd.DataFrame([\n",
    "    [1, 'D', 26],\n",
    "    [2, 'S', 24], \n",
    "    [3, 'S', 27],\n",
    "    [4, 'M', 22]\n",
    "], columns = ['ID', 'Name', 'Age'])\n",
    "\n",
    "print(df)"
   ]
  },
  {
   "cell_type": "markdown",
   "metadata": {},
   "source": [
    "# Loading External Data"
   ]
  },
  {
   "cell_type": "code",
   "execution_count": 26,
   "metadata": {
    "scrolled": false
   },
   "outputs": [
    {
     "name": "stdout",
     "output_type": "stream",
     "text": [
      "       #                   Name   Type 1  Type 2  Total  HP  Attack  Defense  \\\n",
      "0      1              Bulbasaur    Grass  Poison    318  45      49       49   \n",
      "1      2                Ivysaur    Grass  Poison    405  60      62       63   \n",
      "2      3               Venusaur    Grass  Poison    525  80      82       83   \n",
      "3      3  VenusaurMega Venusaur    Grass  Poison    625  80     100      123   \n",
      "4      4             Charmander     Fire     NaN    309  39      52       43   \n",
      "..   ...                    ...      ...     ...    ...  ..     ...      ...   \n",
      "795  719                Diancie     Rock   Fairy    600  50     100      150   \n",
      "796  719    DiancieMega Diancie     Rock   Fairy    700  50     160      110   \n",
      "797  720    HoopaHoopa Confined  Psychic   Ghost    600  80     110       60   \n",
      "798  720     HoopaHoopa Unbound  Psychic    Dark    680  80     160       60   \n",
      "799  721              Volcanion     Fire   Water    600  80     110      120   \n",
      "\n",
      "     Sp. Atk  Sp. Def  Speed  Generation  Legendary  \n",
      "0         65       65     45           1      False  \n",
      "1         80       80     60           1      False  \n",
      "2        100      100     80           1      False  \n",
      "3        122      120     80           1      False  \n",
      "4         60       50     65           1      False  \n",
      "..       ...      ...    ...         ...        ...  \n",
      "795      100      150     50           6       True  \n",
      "796      160      110    110           6       True  \n",
      "797      150      130     70           6       True  \n",
      "798      170      130     80           6       True  \n",
      "799      130       90     70           6       True  \n",
      "\n",
      "[800 rows x 13 columns]\n"
     ]
    }
   ],
   "source": [
    "# Reading:\n",
    "data = pd.read_csv('C:/Users/Dillon/Downloads/pokemon.csv')\n",
    "print(data)"
   ]
  },
  {
   "cell_type": "code",
   "execution_count": 15,
   "metadata": {},
   "outputs": [],
   "source": [
    "# Writing:\n",
    "# data.to_csv('new_file_name')\n",
    "# Will save to current directory"
   ]
  },
  {
   "cell_type": "code",
   "execution_count": 27,
   "metadata": {},
   "outputs": [
    {
     "name": "stdout",
     "output_type": "stream",
     "text": [
      "   #                   Name Type 1  Type 2  Total  HP  Attack  Defense  \\\n",
      "0  1              Bulbasaur  Grass  Poison    318  45      49       49   \n",
      "1  2                Ivysaur  Grass  Poison    405  60      62       63   \n",
      "2  3               Venusaur  Grass  Poison    525  80      82       83   \n",
      "3  3  VenusaurMega Venusaur  Grass  Poison    625  80     100      123   \n",
      "4  4             Charmander   Fire     NaN    309  39      52       43   \n",
      "\n",
      "   Sp. Atk  Sp. Def  Speed  Generation  Legendary  \n",
      "0       65       65     45           1      False  \n",
      "1       80       80     60           1      False  \n",
      "2      100      100     80           1      False  \n",
      "3      122      120     80           1      False  \n",
      "4       60       50     65           1      False  \n",
      "\n",
      "   #       Name Type 1  Type 2  Total  HP  Attack  Defense  Sp. Atk  Sp. Def  \\\n",
      "0  1  Bulbasaur  Grass  Poison    318  45      49       49       65       65   \n",
      "1  2    Ivysaur  Grass  Poison    405  60      62       63       80       80   \n",
      "\n",
      "   Speed  Generation  Legendary  \n",
      "0     45           1      False  \n",
      "1     60           1      False  \n"
     ]
    }
   ],
   "source": [
    "# head\n",
    "print(data.head())\n",
    "print('')\n",
    "print(data.head(2))"
   ]
  },
  {
   "cell_type": "code",
   "execution_count": 28,
   "metadata": {
    "scrolled": false
   },
   "outputs": [
    {
     "name": "stdout",
     "output_type": "stream",
     "text": [
      "<class 'pandas.core.frame.DataFrame'>\n",
      "RangeIndex: 800 entries, 0 to 799\n",
      "Data columns (total 13 columns):\n",
      " #   Column      Non-Null Count  Dtype \n",
      "---  ------      --------------  ----- \n",
      " 0   #           800 non-null    int64 \n",
      " 1   Name        800 non-null    object\n",
      " 2   Type 1      800 non-null    object\n",
      " 3   Type 2      414 non-null    object\n",
      " 4   Total       800 non-null    int64 \n",
      " 5   HP          800 non-null    int64 \n",
      " 6   Attack      800 non-null    int64 \n",
      " 7   Defense     800 non-null    int64 \n",
      " 8   Sp. Atk     800 non-null    int64 \n",
      " 9   Sp. Def     800 non-null    int64 \n",
      " 10  Speed       800 non-null    int64 \n",
      " 11  Generation  800 non-null    int64 \n",
      " 12  Legendary   800 non-null    bool  \n",
      "dtypes: bool(1), int64(9), object(3)\n",
      "memory usage: 75.9+ KB\n",
      "None\n"
     ]
    }
   ],
   "source": [
    "# info\n",
    "print(data.info())"
   ]
  },
  {
   "cell_type": "markdown",
   "metadata": {},
   "source": [
    "# Accessing Parts of Data"
   ]
  },
  {
   "cell_type": "code",
   "execution_count": 32,
   "metadata": {
    "scrolled": true
   },
   "outputs": [
    {
     "name": "stdout",
     "output_type": "stream",
     "text": [
      "0                  Bulbasaur\n",
      "1                    Ivysaur\n",
      "2                   Venusaur\n",
      "3      VenusaurMega Venusaur\n",
      "4                 Charmander\n",
      "               ...          \n",
      "795                  Diancie\n",
      "796      DiancieMega Diancie\n",
      "797      HoopaHoopa Confined\n",
      "798       HoopaHoopa Unbound\n",
      "799                Volcanion\n",
      "Name: Name, Length: 800, dtype: object\n",
      "\n",
      "0                  Bulbasaur\n",
      "1                    Ivysaur\n",
      "2                   Venusaur\n",
      "3      VenusaurMega Venusaur\n",
      "4                 Charmander\n",
      "               ...          \n",
      "795                  Diancie\n",
      "796      DiancieMega Diancie\n",
      "797      HoopaHoopa Confined\n",
      "798       HoopaHoopa Unbound\n",
      "799                Volcanion\n",
      "Name: Name, Length: 800, dtype: object\n"
     ]
    }
   ],
   "source": [
    "# columns\n",
    "    # Column as key:\n",
    "print(data['Name'])\n",
    "print('')\n",
    "    # If a proper variable:\n",
    "print(data.Name)"
   ]
  },
  {
   "cell_type": "code",
   "execution_count": 34,
   "metadata": {
    "scrolled": false
   },
   "outputs": [
    {
     "name": "stdout",
     "output_type": "stream",
     "text": [
      "                      Name   Type 1\n",
      "0                Bulbasaur    Grass\n",
      "1                  Ivysaur    Grass\n",
      "2                 Venusaur    Grass\n",
      "3    VenusaurMega Venusaur    Grass\n",
      "4               Charmander     Fire\n",
      "..                     ...      ...\n",
      "795                Diancie     Rock\n",
      "796    DiancieMega Diancie     Rock\n",
      "797    HoopaHoopa Confined  Psychic\n",
      "798     HoopaHoopa Unbound  Psychic\n",
      "799              Volcanion     Fire\n",
      "\n",
      "[800 rows x 2 columns]\n"
     ]
    }
   ],
   "source": [
    "# Multiple Columns [[col1, col2]]\n",
    "print(data[['Name','Type 1']])"
   ]
  },
  {
   "cell_type": "code",
   "execution_count": 36,
   "metadata": {},
   "outputs": [
    {
     "name": "stdout",
     "output_type": "stream",
     "text": [
      "#                     1\n",
      "Name          Bulbasaur\n",
      "Type 1            Grass\n",
      "Type 2           Poison\n",
      "Total               318\n",
      "HP                   45\n",
      "Attack               49\n",
      "Defense              49\n",
      "Sp. Atk              65\n",
      "Sp. Def              65\n",
      "Speed                45\n",
      "Generation            1\n",
      "Legendary         False\n",
      "Name: 0, dtype: object\n"
     ]
    }
   ],
   "source": [
    "# Rows\n",
    "print(data.iloc[0])"
   ]
  },
  {
   "cell_type": "code",
   "execution_count": 37,
   "metadata": {
    "scrolled": true
   },
   "outputs": [
    {
     "name": "stdout",
     "output_type": "stream",
     "text": [
      "   #                       Name Type 1  Type 2  Total  HP  Attack  Defense  \\\n",
      "0  1                  Bulbasaur  Grass  Poison    318  45      49       49   \n",
      "2  3                   Venusaur  Grass  Poison    525  80      82       83   \n",
      "4  4                 Charmander   Fire     NaN    309  39      52       43   \n",
      "6  6                  Charizard   Fire  Flying    534  78      84       78   \n",
      "8  6  CharizardMega Charizard Y   Fire  Flying    634  78     104       78   \n",
      "\n",
      "   Sp. Atk  Sp. Def  Speed  Generation  Legendary  \n",
      "0       65       65     45           1      False  \n",
      "2      100      100     80           1      False  \n",
      "4       60       50     65           1      False  \n",
      "6      109       85    100           1      False  \n",
      "8      159      115    100           1      False  \n"
     ]
    }
   ],
   "source": [
    "# multiple rows\n",
    "print(data.iloc[0:10:2])"
   ]
  },
  {
   "cell_type": "code",
   "execution_count": 39,
   "metadata": {
    "scrolled": true
   },
   "outputs": [
    {
     "name": "stdout",
     "output_type": "stream",
     "text": [
      "0                    Bulbasaur\n",
      "1                      Ivysaur\n",
      "2                     Venusaur\n",
      "3        VenusaurMega Venusaur\n",
      "4                   Charmander\n",
      "5                   Charmeleon\n",
      "6                    Charizard\n",
      "7    CharizardMega Charizard X\n",
      "8    CharizardMega Charizard Y\n",
      "9                     Squirtle\n",
      "Name: Name, dtype: object\n"
     ]
    }
   ],
   "source": [
    "# multiple rows and columns\n",
    "print(data.iloc[0:10,1])"
   ]
  },
  {
   "cell_type": "markdown",
   "metadata": {},
   "source": [
    "# Using logic to select rows"
   ]
  },
  {
   "cell_type": "code",
   "execution_count": 41,
   "metadata": {
    "scrolled": true
   },
   "outputs": [
    {
     "name": "stdout",
     "output_type": "stream",
     "text": [
      "       #                   Name   Type 1    Type 2  Total   HP  Attack  \\\n",
      "0      1              Bulbasaur    Grass    Poison    318   45      49   \n",
      "1      2                Ivysaur    Grass    Poison    405   60      62   \n",
      "2      3               Venusaur    Grass    Poison    525   80      82   \n",
      "3      3  VenusaurMega Venusaur    Grass    Poison    625   80     100   \n",
      "4      4             Charmander     Fire       NaN    309   39      52   \n",
      "..   ...                    ...      ...       ...    ...  ...     ...   \n",
      "161  149              Dragonite   Dragon    Flying    600   91     134   \n",
      "162  150                 Mewtwo  Psychic       NaN    680  106     110   \n",
      "163  150    MewtwoMega Mewtwo X  Psychic  Fighting    780  106     190   \n",
      "164  150    MewtwoMega Mewtwo Y  Psychic       NaN    780  106     150   \n",
      "165  151                    Mew  Psychic       NaN    600  100     100   \n",
      "\n",
      "     Defense  Sp. Atk  Sp. Def  Speed  Generation  Legendary  \n",
      "0         49       65       65     45           1      False  \n",
      "1         63       80       80     60           1      False  \n",
      "2         83      100      100     80           1      False  \n",
      "3        123      122      120     80           1      False  \n",
      "4         43       60       50     65           1      False  \n",
      "..       ...      ...      ...    ...         ...        ...  \n",
      "161       95      100      100     80           1      False  \n",
      "162       90      154       90    130           1       True  \n",
      "163      100      154      100    130           1       True  \n",
      "164       70      194      120    140           1       True  \n",
      "165      100      100      100    100           1      False  \n",
      "\n",
      "[166 rows x 13 columns]\n"
     ]
    }
   ],
   "source": [
    "# Selecting gen 1 pokemon\n",
    "gen_1 = data[data.Generation == 1]\n",
    "print(gen_1)"
   ]
  },
  {
   "cell_type": "code",
   "execution_count": 47,
   "metadata": {
    "scrolled": true
   },
   "outputs": [
    {
     "name": "stdout",
     "output_type": "stream",
     "text": [
      "       #                       Name Type 1  Type 2  Total   HP  Attack  \\\n",
      "6      6                  Charizard   Fire  Flying    534   78      84   \n",
      "8      6  CharizardMega Charizard Y   Fire  Flying    634   78     104   \n",
      "158  146                    Moltres   Fire  Flying    580   90     100   \n",
      "270  250                      Ho-oh   Fire  Flying    680  106     130   \n",
      "730  662                Fletchinder   Fire  Flying    382   62      73   \n",
      "731  663                 Talonflame   Fire  Flying    499   78      81   \n",
      "\n",
      "     Defense  Sp. Atk  Sp. Def  Speed  Generation  Legendary  \n",
      "6         78      109       85    100           1      False  \n",
      "8         78      159      115    100           1      False  \n",
      "158       90      125       85     90           1       True  \n",
      "270       90      110      154     90           2       True  \n",
      "730       55       56       52     84           6      False  \n",
      "731       71       74       69    126           6      False  \n"
     ]
    }
   ],
   "source": [
    "# Selecting fire/flying pokemon\n",
    "fire_flying = data[(data['Type 1'] == 'Fire') & (data['Type 2'] == 'Flying')]\n",
    "print(fire_flying)"
   ]
  },
  {
   "cell_type": "code",
   "execution_count": 49,
   "metadata": {
    "scrolled": true
   },
   "outputs": [
    {
     "name": "stdout",
     "output_type": "stream",
     "text": [
      "6                      Charizard\n",
      "8      CharizardMega Charizard Y\n",
      "158                      Moltres\n",
      "270                        Ho-oh\n",
      "730                  Fletchinder\n",
      "731                   Talonflame\n",
      "Name: Name, dtype: object\n"
     ]
    }
   ],
   "source": [
    "# Selecting JUST the names of the above data\n",
    "fire_flying = data['Name'][(data['Type 1'] == 'Fire') & (data['Type 2'] == 'Flying')]\n",
    "print(fire_flying)"
   ]
  },
  {
   "cell_type": "code",
   "execution_count": 52,
   "metadata": {
    "scrolled": true
   },
   "outputs": [
    {
     "name": "stdout",
     "output_type": "stream",
     "text": [
      "       #                   Name Type 1  Type 2  Total   HP  Attack  Defense  \\\n",
      "0      1              Bulbasaur  Grass  Poison    318   45      49       49   \n",
      "1      2                Ivysaur  Grass  Poison    405   60      62       63   \n",
      "2      3               Venusaur  Grass  Poison    525   80      82       83   \n",
      "3      3  VenusaurMega Venusaur  Grass  Poison    625   80     100      123   \n",
      "4      4             Charmander   Fire     NaN    309   39      52       43   \n",
      "..   ...                    ...    ...     ...    ...  ...     ...      ...   \n",
      "740  672                 Skiddo  Grass     NaN    350   66      65       48   \n",
      "741  673                 Gogoat  Grass     NaN    531  123     100       62   \n",
      "762  692              Clauncher  Water     NaN    330   50      53       62   \n",
      "763  693              Clawitzer  Water     NaN    500   71      73       88   \n",
      "799  721              Volcanion   Fire   Water    600   80     110      120   \n",
      "\n",
      "     Sp. Atk  Sp. Def  Speed  Generation  Legendary  \n",
      "0         65       65     45           1      False  \n",
      "1         80       80     60           1      False  \n",
      "2        100      100     80           1      False  \n",
      "3        122      120     80           1      False  \n",
      "4         60       50     65           1      False  \n",
      "..       ...      ...    ...         ...        ...  \n",
      "740       62       57     52           6      False  \n",
      "741       97       81     68           6      False  \n",
      "762       58       63     44           6      False  \n",
      "763      120       89     59           6      False  \n",
      "799      130       90     70           6       True  \n",
      "\n",
      "[234 rows x 13 columns]\n"
     ]
    }
   ],
   "source": [
    "# isin: allows us to select multiples instead of name = ______ or name = _______ or name = ______\n",
    "'''\n",
    "data[data[COLUMN].isin([WHAT YOU ARE LOOKING FOR])]\n",
    "'''\n",
    "\n",
    "three_types = data[data['Type 1'].isin(['Fire', 'Water', 'Grass'])]\n",
    "print(three_types)"
   ]
  },
  {
   "cell_type": "code",
   "execution_count": 54,
   "metadata": {
    "scrolled": false
   },
   "outputs": [
    {
     "name": "stdout",
     "output_type": "stream",
     "text": [
      "       #                   Name   Type 1   Type 2  Total   HP  Attack  \\\n",
      "0      1              Bulbasaur    Grass   Poison    318   45      49   \n",
      "1      2                Ivysaur    Grass   Poison    405   60      62   \n",
      "2      3               Venusaur    Grass   Poison    525   80      82   \n",
      "3      3  VenusaurMega Venusaur    Grass   Poison    625   80     100   \n",
      "4      4             Charmander     Fire      NaN    309   39      52   \n",
      "..   ...                    ...      ...      ...    ...  ...     ...   \n",
      "427  385                Jirachi    Steel  Psychic    600  100     100   \n",
      "428  386     DeoxysNormal Forme  Psychic      NaN    600   50     150   \n",
      "429  386     DeoxysAttack Forme  Psychic      NaN    600   50     180   \n",
      "430  386    DeoxysDefense Forme  Psychic      NaN    600   50      70   \n",
      "431  386      DeoxysSpeed Forme  Psychic      NaN    600   50      95   \n",
      "\n",
      "     Defense  Sp. Atk  Sp. Def  Speed  Generation  Legendary  \n",
      "0         49       65       65     45           1      False  \n",
      "1         63       80       80     60           1      False  \n",
      "2         83      100      100     80           1      False  \n",
      "3        123      122      120     80           1      False  \n",
      "4         43       60       50     65           1      False  \n",
      "..       ...      ...      ...    ...         ...        ...  \n",
      "427      100      100      100    100           3       True  \n",
      "428       50      150       50    150           3       True  \n",
      "429       20      180       20    150           3       True  \n",
      "430      160       70      160     90           3       True  \n",
      "431       90       95       90    180           3       True  \n",
      "\n",
      "[432 rows x 13 columns]\n"
     ]
    }
   ],
   "source": [
    "gen_to_3 = data[data.Generation.isin([1,2,3])]\n",
    "print(gen_to_3)"
   ]
  },
  {
   "cell_type": "markdown",
   "metadata": {},
   "source": [
    "# Resetting Indexes"
   ]
  },
  {
   "cell_type": "code",
   "execution_count": 57,
   "metadata": {
    "scrolled": true
   },
   "outputs": [
    {
     "name": "stdout",
     "output_type": "stream",
     "text": [
      "0                    Charizard\n",
      "1    CharizardMega Charizard Y\n",
      "2                      Moltres\n",
      "3                        Ho-oh\n",
      "4                  Fletchinder\n",
      "5                   Talonflame\n",
      "Name: Name, dtype: object\n"
     ]
    }
   ],
   "source": [
    "# Need to reset indexes when we make new tables\n",
    "# fire_flying has an irregular index\n",
    "\n",
    "# drop - Removes old index. inplace - Replaces old dataframe\n",
    "fire_flying.reset_index(drop = True, inplace = True)\n",
    "print(fire_flying)\n",
    "\n",
    "\n",
    "# We might keep the original index if it's an ID number etc"
   ]
  },
  {
   "cell_type": "markdown",
   "metadata": {},
   "source": [
    "# Modifiying Dataframes"
   ]
  },
  {
   "cell_type": "code",
   "execution_count": 17,
   "metadata": {
    "scrolled": true
   },
   "outputs": [
    {
     "name": "stdout",
     "output_type": "stream",
     "text": [
      "   ID Name  Age\n",
      "0   1    D   26\n",
      "1   2    S   24\n",
      "   ID Name  Age Hair Colour\n",
      "0   1    D   26      Blonde\n",
      "1   2    S   24       Black\n",
      "   ID Name  Age Hair Colour Person?\n",
      "0   1    D   26      Blonde     Yes\n",
      "1   2    S   24       Black     Yes\n",
      "   ID Name  Age Hair Colour Person?  Year of Birth\n",
      "0   1    D   26      Blonde     Yes           1994\n",
      "1   2    S   24       Black     Yes           1996\n"
     ]
    }
   ],
   "source": [
    "# Adding Columns\n",
    "data = pd.DataFrame([\n",
    "    [1, 'D', 26],\n",
    "    [2, 'S', 24]\n",
    "], columns = ['ID', 'Name', 'Age'])\n",
    "\n",
    "print(data)\n",
    "\n",
    "# Adding different entries for each row\n",
    "data['Hair Colour'] = ['Blonde', 'Black']\n",
    "print(data)\n",
    "\n",
    "# Adding one value for each row\n",
    "data['Person?'] = 'Yes'\n",
    "print(data)\n",
    "\n",
    "# Adding a column based on another column\n",
    "data['Year of Birth'] = 2020-data.Age\n",
    "print(data)"
   ]
  },
  {
   "cell_type": "code",
   "execution_count": 29,
   "metadata": {
    "scrolled": true
   },
   "outputs": [
    {
     "name": "stdout",
     "output_type": "stream",
     "text": [
      "   ID Name   Age\n",
      "0   1    D  26.0\n",
      "1   2    S  24.0\n"
     ]
    }
   ],
   "source": [
    "# Column Operations - Modifying values in a column\n",
    "# Adding Columns\n",
    "data = pd.DataFrame([\n",
    "    [1, 'D', 26],\n",
    "    [2, 'S', 24]\n",
    "], columns = ['ID', 'Name', 'Age'])\n",
    "\n",
    "data['Age'] = data['Age'].apply(float)\n",
    "print(data)"
   ]
  },
  {
   "cell_type": "code",
   "execution_count": 38,
   "metadata": {
    "scrolled": false
   },
   "outputs": [
    {
     "name": "stdout",
     "output_type": "stream",
     "text": [
      "36\n",
      "6\n",
      "225\n",
      "   ID Name  Age  Squared Age\n",
      "0   1    D   26          676\n",
      "1   2    S   24          576\n",
      "   ID Name  Age  ID + Age\n",
      "0   1    D   26        27\n",
      "1   2    S   24        26\n"
     ]
    }
   ],
   "source": [
    "# Using Lambda functions\n",
    "'''\n",
    "name = lambda var: [Outcome if True] if [Condition] else [Outcome if False]\n",
    "'''\n",
    "example_lambda = lambda x: x**2\n",
    "print(example_lambda(6))\n",
    "\n",
    "if_lambda = lambda x: x**2 if x >= 10 else x + 1\n",
    "print(if_lambda(5))\n",
    "print(if_lambda(15))\n",
    "\n",
    "\n",
    "# Using Lambdas on Columns\n",
    "data = pd.DataFrame([\n",
    "    [1, 'D', 26],\n",
    "    [2, 'S', 24]\n",
    "], columns = ['ID', 'Name', 'Age'])\n",
    "\n",
    "data['Squared Age'] = data['Age'].apply(lambda x: x**2)\n",
    "print(data)\n",
    "\n",
    "\n",
    "# Using Lambdas on Rows\n",
    "data = pd.DataFrame([\n",
    "    [1, 'D', 26],\n",
    "    [2, 'S', 24]\n",
    "], columns = ['ID', 'Name', 'Age'])\n",
    "\n",
    "data['ID + Age'] = data.apply(lambda row: row['ID'] + row['Age'], axis = 1)\n",
    "print(data)\n",
    "\n",
    "## If the lambda function is long and complicated keep it seperate from line 29. "
   ]
  },
  {
   "cell_type": "markdown",
   "metadata": {},
   "source": [
    "# Renaming Columns"
   ]
  },
  {
   "cell_type": "code",
   "execution_count": 40,
   "metadata": {
    "scrolled": true
   },
   "outputs": [
    {
     "name": "stdout",
     "output_type": "stream",
     "text": [
      "   ID Name  Age\n",
      "0   1    D   26\n",
      "1   2    S   24\n",
      "   One Digit Letter  Two Digits\n",
      "0          1      D          26\n",
      "1          2      S          24\n"
     ]
    }
   ],
   "source": [
    "# All Columns\n",
    "data = pd.DataFrame([\n",
    "    [1, 'D', 26],\n",
    "    [2, 'S', 24]\n",
    "], columns = ['ID', 'Name', 'Age'])\n",
    "\n",
    "print(data)\n",
    "\n",
    "data.columns = ['One Digit', 'Letter', 'Two Digits']\n",
    "print(data)"
   ]
  },
  {
   "cell_type": "code",
   "execution_count": 43,
   "metadata": {
    "scrolled": true
   },
   "outputs": [
    {
     "name": "stdout",
     "output_type": "stream",
     "text": [
      "   ID Name  Age\n",
      "0   1    D   26\n",
      "1   2    S   24\n",
      "   Id Name  Random Number\n",
      "0   1    D             26\n",
      "1   2    S             24\n"
     ]
    }
   ],
   "source": [
    "# Individual Columns\n",
    "data = pd.DataFrame([\n",
    "    [1, 'D', 26],\n",
    "    [2, 'S', 24]\n",
    "], columns = ['ID', 'Name', 'Age'])\n",
    "\n",
    "print(data)\n",
    "\n",
    "data.rename(columns = {\n",
    "    'ID': 'Id',\n",
    "    'Age': 'Random Number'\n",
    "}, inplace = True)\n",
    "\n",
    "print(data)"
   ]
  },
  {
   "cell_type": "markdown",
   "metadata": {},
   "source": [
    "# Aggregates in Pandas"
   ]
  },
  {
   "cell_type": "code",
   "execution_count": 20,
   "metadata": {
    "scrolled": true
   },
   "outputs": [
    {
     "name": "stdout",
     "output_type": "stream",
     "text": [
      "10\n",
      "['Dill' 'Bob' 'Stan' 'Sereena']\n",
      "4\n",
      "45\n",
      "12\n",
      "24.8\n",
      "22.0\n",
      "12.081206709412582\n"
     ]
    }
   ],
   "source": [
    "# Column Statistics\n",
    "data = pd.DataFrame({\n",
    "    'Numbers': [12,33,45,21,23,15,12,41,31,15],\n",
    "    'Names': ['Dill','Bob','Dill','Dill','Bob','Dill','Dill', 'Stan', 'Sereena', 'Sereena']\n",
    "})\n",
    "\n",
    "# Number of items in the column:\n",
    "print(data.Names.count())\n",
    "\n",
    "# Unique items:\n",
    "print(data.Names.unique())\n",
    "# Unique item occurances:\n",
    "print(data.Names.nunique())\n",
    "\n",
    "# Max number in the column:\n",
    "print(data.Numbers.max())\n",
    "# Min number in the column:\n",
    "print(data.Numbers.min())\n",
    "\n",
    "# Stats:\n",
    "print(data.Numbers.mean())\n",
    "print(data.Numbers.median())\n",
    "print(data.Numbers.std())"
   ]
  },
  {
   "cell_type": "code",
   "execution_count": 60,
   "metadata": {
    "scrolled": true
   },
   "outputs": [
    {
     "name": "stdout",
     "output_type": "stream",
     "text": [
      "  shoe_material  price\n",
      "0        fabric   90.0\n",
      "1  faux-leather   96.5\n",
      "2       leather   95.0\n",
      "  shoe_color  price\n",
      "0      brown     90\n",
      "1       navy     97\n",
      "2        red     96\n",
      "3      white     96\n",
      "  shoe_material  Max Price\n",
      "0        fabric       90.0\n",
      "1  faux-leather       96.5\n",
      "2       leather       95.0\n"
     ]
    }
   ],
   "source": [
    "# Creating Functions\n",
    "shoe_data = pd.DataFrame([\n",
    "    ['fabric','brown',90],  \n",
    "    ['leather','navy',94],  \n",
    "    ['faux-leather','white',96],  \n",
    "    ['leather','red',96],  \n",
    "    ['faux-leather','navy',97]  \n",
    "], columns = ['shoe_material', 'shoe_color', 'price'])\n",
    "\n",
    "\n",
    "# groupby: DataFrame.groupby('col1').col2.operation()\n",
    "print(shoe_data.groupby('shoe_material').price.mean().reset_index())\n",
    "print(shoe_data.groupby('shoe_color').price.max().reset_index())\n",
    "\n",
    "\n",
    "max_price = shoe_data.groupby('shoe_material').price.mean().reset_index()\n",
    "max_price.rename(columns = {\n",
    "    'price': 'Max Price'\n",
    "}, inplace = True)\n",
    "print(max_price)"
   ]
  },
  {
   "cell_type": "code",
   "execution_count": 61,
   "metadata": {
    "scrolled": true
   },
   "outputs": [
    {
     "name": "stdout",
     "output_type": "stream",
     "text": [
      "shoe_type\n",
      "faux-leather     NaN\n",
      "sandals         97.0\n",
      "stilettos       93.0\n",
      "wedges          96.0\n",
      "Name: price, dtype: float64\n",
      "shoe_type     shoe_material\n",
      "faux-leather  white            1\n",
      "sandals       faux-leather     1\n",
      "stilettos     fabric           1\n",
      "              leather          1\n",
      "wedges        fabric           1\n",
      "              leather          1\n",
      "Name: id, dtype: int64\n"
     ]
    }
   ],
   "source": [
    "# Using .apply()\n",
    "import numpy as np\n",
    "\n",
    "\n",
    "shoe_data = pd.DataFrame([\n",
    "[97916,'Douglas','Perez','DouglasPerez28@gmail.com','stilettos','fabric','brown',90],\n",
    "[67691,'Tiffany','O\\'neill','TiffanyO\\'neill51@gmail.com','wedges','leather','navy',94],\n",
    "[72818,'Susan','Rivas''Susan.Rivas@gmail.com','sandals','faux-leather','white',96],\n",
    "[28080,'Angela','Hopper','AngelaHopper62@outlook.com','stilettos','leather','red',96],\n",
    "[89958,'Thomas','Benjamin','TBenjamin1981@gmail.com','sandals','faux-leather','navy',97],\n",
    "[11853,'Jonathan','Park','JP1285@gmail.com','wedges','fabric','white',98]\n",
    "], columns = ['id','first_name','last_name','email','shoe_type','shoe_material','shoe_color','price'\n",
    "])\n",
    "\n",
    "print(shoe_data.groupby('shoe_type').price.apply(lambda x: np.percentile(x, 50)))\n",
    "\n",
    "#grouby with multiple columns\n",
    "print(shoe_data.groupby(['shoe_type', 'shoe_material']).id.count())"
   ]
  },
  {
   "cell_type": "code",
   "execution_count": 67,
   "metadata": {},
   "outputs": [
    {
     "name": "stdout",
     "output_type": "stream",
     "text": [
      "shoe_material     shoe_type  fabric  faux-leather  leather  white\n",
      "0              faux-leather     NaN           NaN      NaN    NaN\n",
      "1                   sandals     NaN          97.0      NaN    NaN\n",
      "2                 stilettos    90.0           NaN     96.0    NaN\n",
      "3                    wedges    98.0           NaN     94.0    NaN\n"
     ]
    }
   ],
   "source": [
    "# Pivot Tables\n",
    "shoe_data.groupby(['shoe_type', 'shoe_material']).price.count()\n",
    "\n",
    "shoe_pivot = shoe_data.pivot(\n",
    "columns = 'shoe_material', \n",
    "index = 'shoe_type',\n",
    "values = 'price'\n",
    ").reset_index()\n",
    "\n",
    "print(shoe_pivot)"
   ]
  },
  {
   "cell_type": "markdown",
   "metadata": {},
   "source": [
    "# Working with multiple tables"
   ]
  },
  {
   "cell_type": "code",
   "execution_count": 8,
   "metadata": {},
   "outputs": [],
   "source": [
    "orders = pd.DataFrame({\n",
    "    'order_id': [1,2,3,4,5,6,7,8],\n",
    "    'customer_id': [2,2,3,3,3,1,1,1],\n",
    "    'product_id': [3,2,1,2,3,4,1,4],\n",
    "    'quantity': [1,3,1,2,3,2,1,1],\n",
    "    'timestamp': ['2017-01-01','2017-01-01','2017-01-01','2017-02-01','2017-02-01','2017-03-01','2017-02-02','2017-02-02']\n",
    "})\n",
    "\n",
    "products = pd.DataFrame({\n",
    "    'product_id': [1,2,3,4],\n",
    "    'description': ['thing-a-ma-jig', 'whatca-ma-call-it', 'doo-hickey', 'gizmo'],\n",
    "    'price': [5,10,7,3]\n",
    "})\n",
    "\n",
    "customers = pd.DataFrame({\n",
    "    'customer_id': [1,2,3],\n",
    "    'customer_name': ['John Smith', 'Jane Doe', 'Joe Schmo'],\n",
    "    'address': ['123 Main St.', '456 Park Ave.', '789 Broadway'],\n",
    "    'phone_number': ['212-123-4567', '949-867-5309', '112-358-1321']\n",
    "})"
   ]
  },
  {
   "cell_type": "code",
   "execution_count": 9,
   "metadata": {},
   "outputs": [],
   "source": [
    "## Orders and Products match on product_id\n",
    "## Orders and Customers match on customer_id"
   ]
  },
  {
   "cell_type": "code",
   "execution_count": 12,
   "metadata": {
    "scrolled": true
   },
   "outputs": [
    {
     "name": "stdout",
     "output_type": "stream",
     "text": [
      "   order_id  customer_id  product_id  quantity   timestamp        description  \\\n",
      "0         1            2           3         1  2017-01-01         doo-hickey   \n",
      "1         5            3           3         3  2017-02-01         doo-hickey   \n",
      "2         2            2           2         3  2017-01-01  whatca-ma-call-it   \n",
      "3         4            3           2         2  2017-02-01  whatca-ma-call-it   \n",
      "4         3            3           1         1  2017-01-01     thing-a-ma-jig   \n",
      "5         7            1           1         1  2017-02-02     thing-a-ma-jig   \n",
      "6         6            1           4         2  2017-03-01              gizmo   \n",
      "7         8            1           4         1  2017-02-02              gizmo   \n",
      "\n",
      "   price  \n",
      "0      7  \n",
      "1      7  \n",
      "2     10  \n",
      "3     10  \n",
      "4      5  \n",
      "5      5  \n",
      "6      3  \n",
      "7      3  \n",
      "\n",
      "   order_id  customer_id  product_id  quantity   timestamp        description  \\\n",
      "0         1            2           3         1  2017-01-01         doo-hickey   \n",
      "1         2            2           2         3  2017-01-01  whatca-ma-call-it   \n",
      "2         5            3           3         3  2017-02-01         doo-hickey   \n",
      "3         4            3           2         2  2017-02-01  whatca-ma-call-it   \n",
      "4         3            3           1         1  2017-01-01     thing-a-ma-jig   \n",
      "5         7            1           1         1  2017-02-02     thing-a-ma-jig   \n",
      "6         6            1           4         2  2017-03-01              gizmo   \n",
      "7         8            1           4         1  2017-02-02              gizmo   \n",
      "\n",
      "   price customer_name        address  phone_number  \n",
      "0      7      Jane Doe  456 Park Ave.  949-867-5309  \n",
      "1     10      Jane Doe  456 Park Ave.  949-867-5309  \n",
      "2      7     Joe Schmo   789 Broadway  112-358-1321  \n",
      "3     10     Joe Schmo   789 Broadway  112-358-1321  \n",
      "4      5     Joe Schmo   789 Broadway  112-358-1321  \n",
      "5      5    John Smith   123 Main St.  212-123-4567  \n",
      "6      3    John Smith   123 Main St.  212-123-4567  \n",
      "7      3    John Smith   123 Main St.  212-123-4567  \n"
     ]
    }
   ],
   "source": [
    "# Merging:\n",
    "## Two tables:\n",
    "print(pd.merge(orders, products))\n",
    "\n",
    "print('')\n",
    "\n",
    "## Multiple tables:\n",
    "print(orders.merge(products).merge(customers))"
   ]
  },
  {
   "cell_type": "code",
   "execution_count": 14,
   "metadata": {},
   "outputs": [],
   "source": [
    "orders = pd.DataFrame({\n",
    "    'order_id': [1,2,3,4,5,6,7,8],\n",
    "    'customer_id': [2,2,3,3,3,1,1,1],\n",
    "    'product_id': [3,2,1,2,3,4,1,4],\n",
    "    'quantity': [1,3,1,2,3,2,1,1],\n",
    "    'timestamp': ['2017-01-01','2017-01-01','2017-01-01','2017-02-01','2017-02-01','2017-03-01','2017-02-02','2017-02-02']\n",
    "})\n",
    "\n",
    "products = pd.DataFrame({\n",
    "    'id': [1,2,3,4],\n",
    "    'description': ['thing-a-ma-jig', 'whatca-ma-call-it', 'doo-hickey', 'gizmo'],\n",
    "    'price': [5,10,7,3]\n",
    "})"
   ]
  },
  {
   "cell_type": "code",
   "execution_count": 15,
   "metadata": {},
   "outputs": [],
   "source": [
    "## In the above example, orders has customer_id and product_id.\n",
    "## However, both products and customers only have id. "
   ]
  },
  {
   "cell_type": "code",
   "execution_count": 16,
   "metadata": {
    "scrolled": true
   },
   "outputs": [
    {
     "name": "stdout",
     "output_type": "stream",
     "text": [
      "   order_id  customer_id  product_id  quantity   timestamp        description  \\\n",
      "0         1            2           3         1  2017-01-01         doo-hickey   \n",
      "1         5            3           3         3  2017-02-01         doo-hickey   \n",
      "2         2            2           2         3  2017-01-01  whatca-ma-call-it   \n",
      "3         4            3           2         2  2017-02-01  whatca-ma-call-it   \n",
      "4         3            3           1         1  2017-01-01     thing-a-ma-jig   \n",
      "5         7            1           1         1  2017-02-02     thing-a-ma-jig   \n",
      "6         6            1           4         2  2017-03-01              gizmo   \n",
      "7         8            1           4         1  2017-02-02              gizmo   \n",
      "\n",
      "   price  \n",
      "0      7  \n",
      "1      7  \n",
      "2     10  \n",
      "3     10  \n",
      "4      5  \n",
      "5      5  \n",
      "6      3  \n",
      "7      3  \n"
     ]
    }
   ],
   "source": [
    "## Option 1: Rename\n",
    "print(pd.merge(orders, products.rename(columns = {'id': 'product_id'})))"
   ]
  },
  {
   "cell_type": "code",
   "execution_count": 20,
   "metadata": {
    "scrolled": true
   },
   "outputs": [
    {
     "name": "stdout",
     "output_type": "stream",
     "text": [
      "   order_id  customer_id  product_id  quantity   timestamp  id  \\\n",
      "0         1            2           3         1  2017-01-01   3   \n",
      "1         5            3           3         3  2017-02-01   3   \n",
      "2         2            2           2         3  2017-01-01   2   \n",
      "3         4            3           2         2  2017-02-01   2   \n",
      "4         3            3           1         1  2017-01-01   1   \n",
      "5         7            1           1         1  2017-02-02   1   \n",
      "6         6            1           4         2  2017-03-01   4   \n",
      "7         8            1           4         1  2017-02-02   4   \n",
      "\n",
      "         description  price  \n",
      "0         doo-hickey      7  \n",
      "1         doo-hickey      7  \n",
      "2  whatca-ma-call-it     10  \n",
      "3  whatca-ma-call-it     10  \n",
      "4     thing-a-ma-jig      5  \n",
      "5     thing-a-ma-jig      5  \n",
      "6              gizmo      3  \n",
      "7              gizmo      3  \n"
     ]
    }
   ],
   "source": [
    "## Option 2: left_on, right_on\n",
    "print(pd.merge(orders, products, left_on = 'product_id', right_on = 'id'))"
   ]
  },
  {
   "cell_type": "code",
   "execution_count": 38,
   "metadata": {},
   "outputs": [],
   "source": [
    "# Mismatched Merges\n",
    "\n",
    "orders = pd.DataFrame({\n",
    "    'order_id': [1,2,3,4,5,6,7,8],\n",
    "    'customer_id': [2,2,3,3,3,1,1,1],\n",
    "    'product_id': [3,5,1,5,3,5,1,5],\n",
    "    'quantity': [1,3,1,2,3,2,1,1],\n",
    "    'timestamp': ['2017-01-01','2017-01-01','2017-01-01','2017-02-01','2017-02-01','2017-03-01','2017-02-02','2017-02-02']\n",
    "})\n",
    "\n",
    "products = pd.DataFrame({\n",
    "    'id': [1,2,3,4],\n",
    "    'description': ['thing-a-ma-jig', 'whatca-ma-call-it', 'doo-hickey', 'gizmo'],\n",
    "    'price': [5,10,7,3]\n",
    "})"
   ]
  },
  {
   "cell_type": "code",
   "execution_count": 22,
   "metadata": {},
   "outputs": [],
   "source": [
    "## In the above table there is an order for product_id 5\n",
    "## In products there is no product_id 5"
   ]
  },
  {
   "cell_type": "code",
   "execution_count": 39,
   "metadata": {
    "scrolled": true
   },
   "outputs": [
    {
     "name": "stdout",
     "output_type": "stream",
     "text": [
      "   order_id  customer_id  product_id  quantity   timestamp  id  \\\n",
      "0         1            2           3         1  2017-01-01   3   \n",
      "1         5            3           3         3  2017-02-01   3   \n",
      "2         3            3           1         1  2017-01-01   1   \n",
      "3         7            1           1         1  2017-02-02   1   \n",
      "\n",
      "      description  price  \n",
      "0      doo-hickey      7  \n",
      "1      doo-hickey      7  \n",
      "2  thing-a-ma-jig      5  \n",
      "3  thing-a-ma-jig      5  \n"
     ]
    }
   ],
   "source": [
    "# We will lose the row with product_id 5 - this is called an inner merge\n",
    "print(pd.merge(orders, products, left_on = 'product_id', right_on = 'id'))"
   ]
  },
  {
   "cell_type": "code",
   "execution_count": 40,
   "metadata": {
    "scrolled": true
   },
   "outputs": [
    {
     "name": "stdout",
     "output_type": "stream",
     "text": [
      "   order_id  customer_id  product_id  quantity   timestamp   id  \\\n",
      "0       1.0          2.0         3.0       1.0  2017-01-01  3.0   \n",
      "1       5.0          3.0         3.0       3.0  2017-02-01  3.0   \n",
      "2       2.0          2.0         5.0       3.0  2017-01-01  NaN   \n",
      "3       4.0          3.0         5.0       2.0  2017-02-01  NaN   \n",
      "4       6.0          1.0         5.0       2.0  2017-03-01  NaN   \n",
      "5       8.0          1.0         5.0       1.0  2017-02-02  NaN   \n",
      "6       3.0          3.0         1.0       1.0  2017-01-01  1.0   \n",
      "7       7.0          1.0         1.0       1.0  2017-02-02  1.0   \n",
      "8       NaN          NaN         NaN       NaN         NaN  2.0   \n",
      "9       NaN          NaN         NaN       NaN         NaN  4.0   \n",
      "\n",
      "         description  price  \n",
      "0         doo-hickey    7.0  \n",
      "1         doo-hickey    7.0  \n",
      "2                NaN    NaN  \n",
      "3                NaN    NaN  \n",
      "4                NaN    NaN  \n",
      "5                NaN    NaN  \n",
      "6     thing-a-ma-jig    5.0  \n",
      "7     thing-a-ma-jig    5.0  \n",
      "8  whatca-ma-call-it   10.0  \n",
      "9              gizmo    3.0  \n"
     ]
    }
   ],
   "source": [
    "# Outer merge: Everything is included. Mismatched columns are given NaN\n",
    "print(pd.merge(orders, products, left_on = 'product_id', right_on = 'id', how = 'outer'))"
   ]
  },
  {
   "cell_type": "code",
   "execution_count": 45,
   "metadata": {},
   "outputs": [
    {
     "name": "stdout",
     "output_type": "stream",
     "text": [
      "   order_id  customer_id  product_id  quantity   timestamp   id  \\\n",
      "0         1            2           3         1  2017-01-01  3.0   \n",
      "1         2            2           5         3  2017-01-01  NaN   \n",
      "2         3            3           1         1  2017-01-01  1.0   \n",
      "3         4            3           5         2  2017-02-01  NaN   \n",
      "4         5            3           3         3  2017-02-01  3.0   \n",
      "5         6            1           5         2  2017-03-01  NaN   \n",
      "6         7            1           1         1  2017-02-02  1.0   \n",
      "7         8            1           5         1  2017-02-02  NaN   \n",
      "\n",
      "      description  price  \n",
      "0      doo-hickey    7.0  \n",
      "1             NaN    NaN  \n",
      "2  thing-a-ma-jig    5.0  \n",
      "3             NaN    NaN  \n",
      "4      doo-hickey    7.0  \n",
      "5             NaN    NaN  \n",
      "6  thing-a-ma-jig    5.0  \n",
      "7             NaN    NaN  \n",
      "\n",
      "   id        description  price  order_id  customer_id  product_id  quantity  \\\n",
      "0   1     thing-a-ma-jig      5       3.0          3.0         1.0       1.0   \n",
      "1   1     thing-a-ma-jig      5       7.0          1.0         1.0       1.0   \n",
      "2   2  whatca-ma-call-it     10       NaN          NaN         NaN       NaN   \n",
      "3   3         doo-hickey      7       1.0          2.0         3.0       1.0   \n",
      "4   3         doo-hickey      7       5.0          3.0         3.0       3.0   \n",
      "5   4              gizmo      3       NaN          NaN         NaN       NaN   \n",
      "\n",
      "    timestamp  \n",
      "0  2017-01-01  \n",
      "1  2017-02-02  \n",
      "2         NaN  \n",
      "3  2017-01-01  \n",
      "4  2017-02-01  \n",
      "5         NaN  \n"
     ]
    }
   ],
   "source": [
    "# Left merge: Include everythign in the left table, but only matched rows from the right\n",
    "print(pd.merge(orders, products, left_on = 'product_id', right_on = 'id', how = 'left'))\n",
    "\n",
    "print('')\n",
    "\n",
    "print(pd.merge(products, orders, left_on = 'id', right_on = 'product_id', how = 'left'))"
   ]
  },
  {
   "cell_type": "code",
   "execution_count": 46,
   "metadata": {
    "scrolled": true
   },
   "outputs": [
    {
     "name": "stdout",
     "output_type": "stream",
     "text": [
      "   order_id  customer_id  product_id  quantity   timestamp  id  \\\n",
      "0       1.0          2.0         3.0       1.0  2017-01-01   3   \n",
      "1       5.0          3.0         3.0       3.0  2017-02-01   3   \n",
      "2       3.0          3.0         1.0       1.0  2017-01-01   1   \n",
      "3       7.0          1.0         1.0       1.0  2017-02-02   1   \n",
      "4       NaN          NaN         NaN       NaN         NaN   2   \n",
      "5       NaN          NaN         NaN       NaN         NaN   4   \n",
      "\n",
      "         description  price  \n",
      "0         doo-hickey      7  \n",
      "1         doo-hickey      7  \n",
      "2     thing-a-ma-jig      5  \n",
      "3     thing-a-ma-jig      5  \n",
      "4  whatca-ma-call-it     10  \n",
      "5              gizmo      3  \n",
      "\n",
      "    id     description  price  order_id  customer_id  product_id  quantity  \\\n",
      "0  1.0  thing-a-ma-jig    5.0         3            3           1         1   \n",
      "1  1.0  thing-a-ma-jig    5.0         7            1           1         1   \n",
      "2  3.0      doo-hickey    7.0         1            2           3         1   \n",
      "3  3.0      doo-hickey    7.0         5            3           3         3   \n",
      "4  NaN             NaN    NaN         2            2           5         3   \n",
      "5  NaN             NaN    NaN         4            3           5         2   \n",
      "6  NaN             NaN    NaN         6            1           5         2   \n",
      "7  NaN             NaN    NaN         8            1           5         1   \n",
      "\n",
      "    timestamp  \n",
      "0  2017-01-01  \n",
      "1  2017-02-02  \n",
      "2  2017-01-01  \n",
      "3  2017-02-01  \n",
      "4  2017-01-01  \n",
      "5  2017-02-01  \n",
      "6  2017-03-01  \n",
      "7  2017-02-02  \n"
     ]
    }
   ],
   "source": [
    "# Right merge: Include everythign in the right table, but only matched rows from the left\n",
    "print(pd.merge(orders, products, left_on = 'product_id', right_on = 'id', how = 'right'))\n",
    "\n",
    "print('')\n",
    "\n",
    "print(pd.merge(products, orders, left_on = 'id', right_on = 'product_id', how = 'right'))"
   ]
  },
  {
   "cell_type": "code",
   "execution_count": 47,
   "metadata": {},
   "outputs": [],
   "source": [
    "## Finally, if a large table is broken into multiple smaller tables we can use concat:\n",
    "\n",
    "# joined_table = pd.concat([table_1, table_2, table_3])\n",
    "## smaller tables MUST have the same columns"
   ]
  }
 ],
 "metadata": {
  "kernelspec": {
   "display_name": "Python 3",
   "language": "python",
   "name": "python3"
  },
  "language_info": {
   "codemirror_mode": {
    "name": "ipython",
    "version": 3
   },
   "file_extension": ".py",
   "mimetype": "text/x-python",
   "name": "python",
   "nbconvert_exporter": "python",
   "pygments_lexer": "ipython3",
   "version": "3.7.6"
  }
 },
 "nbformat": 4,
 "nbformat_minor": 4
}
